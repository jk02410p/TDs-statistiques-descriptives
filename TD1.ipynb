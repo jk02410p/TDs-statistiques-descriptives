{
 "cells": [
  {
   "cell_type": "markdown",
   "id": "4e6fc15d-4b98-49a7-a679-97320f04a6bf",
   "metadata": {
    "tags": []
   },
   "source": [
    "# TD 1 | Introduction à Python pour l'analyse de données\n",
    "\n",
    "---\n",
    "\n",
    "Objectifs du TD :\n",
    "\n",
    "* découvrir Python\n",
    "* se familiariser avec le langage et le notebook Jupyter\n",
    "* découvrir et maîtriser les bases des librairies de calcul numérique et d'analyse de données numpy et pandas\n",
    "\n",
    "---"
   ]
  },
  {
   "cell_type": "markdown",
   "id": "bad440b9-18a4-4b45-809d-df8d4009f3ff",
   "metadata": {
    "tags": []
   },
   "source": [
    "##  Installation de Python et Jupyter"
   ]
  },
  {
   "cell_type": "markdown",
   "id": "052b229f-8f3a-4a46-8285-aa5ffd721c02",
   "metadata": {},
   "source": [
    "### Windows"
   ]
  },
  {
   "cell_type": "markdown",
   "id": "680cdce7-3be8-4b62-a670-66ba16407412",
   "metadata": {},
   "source": [
    "#### Installation Python"
   ]
  },
  {
   "cell_type": "markdown",
   "id": "e6b3a3c6-57f1-4d11-ae58-8d361881814b",
   "metadata": {},
   "source": [
    "Vérifiez si vous avez déjà une version de python installée en ouvrant l'invite de commande et en exécutant l'une des deux commandes python suivantes : \n",
    "> python --version   \n",
    "\n",
    "> python3 --version \n",
    "\n",
    "Si ce n'est pas le cas, vous pouvez procéder à l'installation comme suit :\n",
    " \n",
    "1. Allez sur le site web : https://www.python.org/downloads/windows/\n",
    "2. Cliquez sur \"Latest Python 3 Release - Python 3.10.7\".\n",
    "3. Si votre ordinateur utilise une version 64 bits de Windows, téléchargez le Windows installer (64-bit). Sinon, téléchargez Windows installer (32-bit).\n",
    "4. Après avoir téléchargé le Windows installer, vous devez l'exécuter (double-cliquez dessus) et suivre les instructions qui s'y trouvent.\n",
    "\n",
    "NB : Au début de l'installation, assurez-vous de cocher la case \"Add Python 3.10 to PATH\" ou \"Add Python to your environment variables\" avant de cliquer sur \"Install Now\".\n"
   ]
  },
  {
   "cell_type": "markdown",
   "id": "a0c71786-cf7a-4082-b26d-de236ac6d022",
   "metadata": {},
   "source": [
    "#### Installation Jupyter"
   ]
  },
  {
   "cell_type": "markdown",
   "id": "1ef7f2f9-8836-40a0-a5b6-1555ccd5ccad",
   "metadata": {},
   "source": [
    "Ouvrir l'invite de commande et exécuter la commande suivante en remplaçant Pseudo_de_votre_user par le nom de l'utilisateur de votre session : \n",
    "> cd \"C:\\Users\\Pseudo_de_votre_user\\AppData\\Local\\Programs\\Python\\Python310\\Scripts\"\n",
    "\n",
    "Ensuite, executer la commande suivante :\n",
    "> pip install jupyterlab\n",
    "\n",
    "Une fois l'installation terminée avec succès, vous pouvez lancer JupyterLab avec la commande suivante : \n",
    "> jupyter-lab\n"
   ]
  },
  {
   "cell_type": "markdown",
   "id": "1f18bb0b-a3e0-4147-adff-52137de24465",
   "metadata": {},
   "source": [
    "### Linux & Mac OS"
   ]
  },
  {
   "cell_type": "markdown",
   "id": "c6d0362e-d415-4946-9661-3790aaf46850",
   "metadata": {},
   "source": [
    "#### Installation Python"
   ]
  },
  {
   "cell_type": "markdown",
   "id": "054fa2f3-524d-4e43-ba52-a25f92566ae6",
   "metadata": {},
   "source": [
    "Normalement, Python est préinstallé sur la quasi-totalité des distributions. Vous n'avez pas besoin de le réinstaller, mais vous pouvez mettre à jour la version si vous le souhaitez.\n",
    "\n",
    "Vérifiez la version Python installée en exécutant l'une des deux commandes python suivantes sur votre terminal : \n",
    "> python --version   \n",
    "\n",
    "> python3 --version "
   ]
  },
  {
   "cell_type": "markdown",
   "id": "e234b9ae-f30b-4fde-9da6-2279277d4c1e",
   "metadata": {},
   "source": [
    "#### Installation Jupyter"
   ]
  },
  {
   "cell_type": "markdown",
   "id": "bfb4b748-f55f-4383-94ca-7337e7f8d25e",
   "metadata": {},
   "source": [
    "Vérifier que la commande pip3 est installée. Sinon, l'installer (exemple pour Debian/Ubuntu/Linux Mint, à adapter selon votre distribution) :\n",
    "\n",
    "> sudo apt install python3-pip\n",
    "\n",
    "Ensuite, installer JupyterLab en executant la commande suivante:\n",
    "> pip3 install -U jupyterlab\n",
    "\n",
    "Enfin, placez-vous dans votre dossier de travail et lancez un notebook :\n",
    "\n",
    "> jupyter-lab"
   ]
  },
  {
   "cell_type": "markdown",
   "id": "8cd7d902-7c1f-4c31-bb41-0ede4b4f4481",
   "metadata": {
    "tags": []
   },
   "source": [
    "## Syntaxe et Concepts de base"
   ]
  },
  {
   "cell_type": "code",
   "execution_count": 14,
   "id": "0ee8dd39-7266-41a1-97b7-38a4f8afeb75",
   "metadata": {},
   "outputs": [],
   "source": [
    "a = 33\n",
    "b = 9\n",
    "c = 2.0"
   ]
  },
  {
   "cell_type": "code",
   "execution_count": 15,
   "id": "3d194b33-77ab-40df-992b-dde6eec290c6",
   "metadata": {},
   "outputs": [
    {
     "data": {
      "text/plain": [
       "42"
      ]
     },
     "execution_count": 15,
     "metadata": {},
     "output_type": "execute_result"
    }
   ],
   "source": [
    "a+b"
   ]
  },
  {
   "cell_type": "code",
   "execution_count": 16,
   "id": "f5c7e24e-c8d9-4995-8e3b-82b52aa5e249",
   "metadata": {},
   "outputs": [
    {
     "name": "stdout",
     "output_type": "stream",
     "text": [
      "42\n"
     ]
    }
   ],
   "source": [
    "print(a+b)"
   ]
  },
  {
   "cell_type": "code",
   "execution_count": 17,
   "id": "7148b94b-4779-4037-a5c5-9cf80f91fed3",
   "metadata": {},
   "outputs": [
    {
     "data": {
      "text/plain": [
       "int"
      ]
     },
     "execution_count": 17,
     "metadata": {},
     "output_type": "execute_result"
    }
   ],
   "source": [
    "type(a)"
   ]
  },
  {
   "cell_type": "code",
   "execution_count": 18,
   "id": "b0eb2c18-eee8-4609-860b-021facfabc8e",
   "metadata": {},
   "outputs": [
    {
     "data": {
      "text/plain": [
       "float"
      ]
     },
     "execution_count": 18,
     "metadata": {},
     "output_type": "execute_result"
    }
   ],
   "source": [
    "type(c)"
   ]
  },
  {
   "cell_type": "code",
   "execution_count": 19,
   "id": "d3a788ce-fc30-48e7-add2-89c1950c1bfe",
   "metadata": {},
   "outputs": [
    {
     "data": {
      "text/plain": [
       "str"
      ]
     },
     "execution_count": 19,
     "metadata": {},
     "output_type": "execute_result"
    }
   ],
   "source": [
    "a = 'hello'\n",
    "type(a)"
   ]
  },
  {
   "cell_type": "code",
   "execution_count": 20,
   "id": "ae0eaa4f-9eb1-40bb-95ef-8152eba98c00",
   "metadata": {},
   "outputs": [
    {
     "name": "stdout",
     "output_type": "stream",
     "text": [
      "2\n",
      "4\n",
      "6\n",
      "8\n",
      "10\n"
     ]
    }
   ],
   "source": [
    "# Affiche les entiers pairs de 1 à 10\n",
    "for i in range(1, 11):\n",
    "    if i % 2 == 0:\n",
    "        print(i)"
   ]
  },
  {
   "cell_type": "markdown",
   "id": "6fb92b5a-910f-44d0-8c1c-902425b24bdf",
   "metadata": {},
   "source": [
    "### List"
   ]
  },
  {
   "cell_type": "code",
   "execution_count": 22,
   "id": "5c3a8a72-3737-4c72-bda2-af1fdfd5e015",
   "metadata": {},
   "outputs": [],
   "source": [
    "l = [1,2,3,4,4]"
   ]
  },
  {
   "cell_type": "markdown",
   "id": "b53eba5e-dc86-46c5-ad37-4fc08743839c",
   "metadata": {},
   "source": [
    "#### len, max, min"
   ]
  },
  {
   "cell_type": "code",
   "execution_count": 24,
   "id": "f3645b14-5244-47c2-9601-0b2defe3bbec",
   "metadata": {},
   "outputs": [
    {
     "name": "stdout",
     "output_type": "stream",
     "text": [
      "longueur de la liste = 5\n",
      "Valeur max de l = 4\n",
      "Valeur min de l = 1\n"
     ]
    }
   ],
   "source": [
    "print('longueur de la liste =', len(l))\n",
    "print(\"Valeur max de l =\", max(l))\n",
    "print(\"Valeur min de l =\", min(l))"
   ]
  },
  {
   "cell_type": "markdown",
   "id": "c6a972ff-7ef0-4a5a-ba61-7ffef0c39ea3",
   "metadata": {},
   "source": [
    "#### Ajout d'un élément d'une liste"
   ]
  },
  {
   "cell_type": "code",
   "execution_count": 26,
   "id": "fcf6650e-7979-43e7-8dba-8e8892e1dadc",
   "metadata": {},
   "outputs": [
    {
     "data": {
      "text/plain": [
       "[1, 2, 3, 4, 4, 6]"
      ]
     },
     "execution_count": 26,
     "metadata": {},
     "output_type": "execute_result"
    }
   ],
   "source": [
    "l.append(6)\n",
    "l"
   ]
  },
  {
   "cell_type": "code",
   "execution_count": 27,
   "id": "3da51e13-280c-4f24-835e-5aa60d379ee4",
   "metadata": {},
   "outputs": [
    {
     "data": {
      "text/plain": [
       "[1, 2, 3, 4, 4, 6, 7]"
      ]
     },
     "execution_count": 27,
     "metadata": {},
     "output_type": "execute_result"
    }
   ],
   "source": [
    "l = l+[7]\n",
    "l"
   ]
  },
  {
   "cell_type": "code",
   "execution_count": 28,
   "id": "9be84535-c2a4-4392-aee3-ed4ab377a1f0",
   "metadata": {},
   "outputs": [
    {
     "data": {
      "text/plain": [
       "[1, 2, 3, 4, 4, 6, 7, 7]"
      ]
     },
     "execution_count": 28,
     "metadata": {},
     "output_type": "execute_result"
    }
   ],
   "source": [
    "l+=[7]\n",
    "l"
   ]
  },
  {
   "cell_type": "markdown",
   "id": "8eab9db9-840e-4d2c-b2d3-89ceedfc0939",
   "metadata": {},
   "source": [
    "#### Modifier un élément"
   ]
  },
  {
   "cell_type": "code",
   "execution_count": 30,
   "id": "21c8b22d-c227-4b9e-81b4-b81946df5bfd",
   "metadata": {},
   "outputs": [
    {
     "data": {
      "text/plain": [
       "[29, 2, 3, 4, 4, 6, 7, 7]"
      ]
     },
     "execution_count": 30,
     "metadata": {},
     "output_type": "execute_result"
    }
   ],
   "source": [
    "l[0] = 29\n",
    "l"
   ]
  },
  {
   "cell_type": "code",
   "execution_count": 31,
   "id": "b47b506b-8f32-4190-b652-c8b95c84510d",
   "metadata": {},
   "outputs": [
    {
     "data": {
      "text/plain": [
       "[29, 9, 2, 3, 4, 4, 6, 7, 7]"
      ]
     },
     "execution_count": 31,
     "metadata": {},
     "output_type": "execute_result"
    }
   ],
   "source": [
    "l.insert(1,9)\n",
    "l"
   ]
  },
  {
   "cell_type": "markdown",
   "id": "99bc03d9-4c18-44e5-b0fb-ccdeeb16b24d",
   "metadata": {},
   "source": [
    "#### Suppression des éléments d'une liste"
   ]
  },
  {
   "cell_type": "code",
   "execution_count": 33,
   "id": "15bfebe5-cdd6-443e-ba6c-b135381d400e",
   "metadata": {},
   "outputs": [
    {
     "data": {
      "text/plain": [
       "[29, 9, 2, 3, 4, 4, 6, 7]"
      ]
     },
     "execution_count": 33,
     "metadata": {},
     "output_type": "execute_result"
    }
   ],
   "source": [
    "l.remove(7)\n",
    "l"
   ]
  },
  {
   "cell_type": "code",
   "execution_count": 34,
   "id": "5e65da05-40b2-4780-bdd8-7d74a625def2",
   "metadata": {},
   "outputs": [
    {
     "data": {
      "text/plain": [
       "[29, 9, 3, 4, 4, 6, 7]"
      ]
     },
     "execution_count": 34,
     "metadata": {},
     "output_type": "execute_result"
    }
   ],
   "source": [
    "l.pop(2)\n",
    "l"
   ]
  },
  {
   "cell_type": "markdown",
   "id": "05a40f33-80eb-40db-92e6-da821bacff04",
   "metadata": {},
   "source": [
    "#### Trier une liste"
   ]
  },
  {
   "cell_type": "code",
   "execution_count": 36,
   "id": "fb0bad2f-5d2a-449a-9212-cd1a2f531b1a",
   "metadata": {},
   "outputs": [
    {
     "name": "stdout",
     "output_type": "stream",
     "text": [
      "[29, 9, 7, 6, 4, 4, 3]\n"
     ]
    }
   ],
   "source": [
    "l.sort(reverse=True)\n",
    "print(l)"
   ]
  },
  {
   "cell_type": "code",
   "execution_count": 37,
   "id": "030e5309-6898-4dff-8ac5-0701d65849da",
   "metadata": {},
   "outputs": [
    {
     "name": "stdout",
     "output_type": "stream",
     "text": [
      "Sorted list: [3, 4, 4, 6, 7, 9, 29]\n"
     ]
    }
   ],
   "source": [
    "l_sorted = sorted(l)\n",
    "print('Sorted list:', l_sorted)"
   ]
  },
  {
   "cell_type": "markdown",
   "id": "86b74b2c-b621-4fd4-9f41-16e8ea4bff2c",
   "metadata": {},
   "source": [
    "#### Liste non homogène"
   ]
  },
  {
   "cell_type": "code",
   "execution_count": 39,
   "id": "a52cec2d-11f3-4383-ab50-c62aa1dc2257",
   "metadata": {},
   "outputs": [
    {
     "name": "stdout",
     "output_type": "stream",
     "text": [
      "<class 'list'>\n"
     ]
    },
    {
     "data": {
      "text/plain": [
       "[1, 'un', 2, 'deux', 3, 'trois']"
      ]
     },
     "execution_count": 39,
     "metadata": {},
     "output_type": "execute_result"
    }
   ],
   "source": [
    "l = [1, 'un', 2]\n",
    "l.append('deux')\n",
    "l += [3, 'trois']\n",
    "print(type(l))\n",
    "l"
   ]
  },
  {
   "cell_type": "code",
   "execution_count": 40,
   "id": "c237d423-0a57-4056-9077-7eeb8c321be4",
   "metadata": {},
   "outputs": [
    {
     "name": "stdout",
     "output_type": "stream",
     "text": [
      "<class 'tuple'>\n"
     ]
    },
    {
     "data": {
      "text/plain": [
       "('deux', 'trois')"
      ]
     },
     "execution_count": 40,
     "metadata": {},
     "output_type": "execute_result"
    }
   ],
   "source": [
    "a = l[3], l[-1]\n",
    "print(type(a))\n",
    "a"
   ]
  },
  {
   "cell_type": "code",
   "execution_count": 41,
   "id": "d6626821-592c-4d4f-adf2-c2acf7b155a0",
   "metadata": {},
   "outputs": [
    {
     "data": {
      "text/plain": [
       "'deux'"
      ]
     },
     "execution_count": 41,
     "metadata": {},
     "output_type": "execute_result"
    }
   ],
   "source": [
    "a[0]"
   ]
  },
  {
   "cell_type": "code",
   "execution_count": 42,
   "id": "b00b9acf-847b-40af-9ad1-f0e7a27a6e3e",
   "metadata": {},
   "outputs": [
    {
     "data": {
      "text/plain": [
       "[1, 2, 4, 8, 16, 32, 64, 128, 256, 512]"
      ]
     },
     "execution_count": 42,
     "metadata": {},
     "output_type": "execute_result"
    }
   ],
   "source": [
    "[2**p for p in range(10)] # \"Compréhension de liste\""
   ]
  },
  {
   "cell_type": "code",
   "execution_count": 43,
   "id": "946a4e8d-45d4-47d9-b500-1c2ae8624541",
   "metadata": {},
   "outputs": [
    {
     "name": "stdout",
     "output_type": "stream",
     "text": [
      "[2, 4, 6, 8, 10]\n"
     ]
    }
   ],
   "source": [
    "# Liste des entiers pairs de 1 à 10\n",
    "l = [i for i in range(1, 11) if i % 2 == 0]\n",
    "print(l)"
   ]
  },
  {
   "cell_type": "markdown",
   "id": "51ed9059-e7a3-4864-96d9-8ecdd5f297c2",
   "metadata": {},
   "source": [
    "### Tuple"
   ]
  },
  {
   "cell_type": "code",
   "execution_count": 45,
   "id": "d84aece0-87fb-4af0-adcb-bb66190d47cf",
   "metadata": {},
   "outputs": [
    {
     "name": "stdout",
     "output_type": "stream",
     "text": [
      "p= (1, 2, 3, 4)\n",
      "p[0] =  1\n"
     ]
    }
   ],
   "source": [
    "p = tuple(range(1,5))\n",
    "print(\"p=\", p)\n",
    "print(\"p[0] = \", p[0])"
   ]
  },
  {
   "cell_type": "code",
   "execution_count": 46,
   "id": "c752b6fe-28c7-44c5-9a55-8a336e4f8cf1",
   "metadata": {},
   "outputs": [
    {
     "name": "stdout",
     "output_type": "stream",
     "text": [
      "([1, 2], 5)\n",
      "([8, 2], 5)\n"
     ]
    }
   ],
   "source": [
    "p = ([1,2],5)\n",
    "\n",
    "print(p)\n",
    "\n",
    "p[0][0] = 8\n",
    "\n",
    "print(p)"
   ]
  },
  {
   "cell_type": "code",
   "execution_count": 47,
   "id": "f06b05b8-7eeb-4bec-95c9-d2928b9bdd1d",
   "metadata": {},
   "outputs": [],
   "source": [
    "# Les éléments du tuple sont fixes\n",
    "#p[0] = 6"
   ]
  },
  {
   "cell_type": "code",
   "execution_count": 48,
   "id": "3ed9e289-25df-4697-92ae-47f0544f9609",
   "metadata": {},
   "outputs": [
    {
     "name": "stdout",
     "output_type": "stream",
     "text": [
      "False\n"
     ]
    }
   ],
   "source": [
    "p1 = (1,2)\n",
    "p2 = (2,1)\n",
    "\n",
    "print(p1 == p2)"
   ]
  },
  {
   "cell_type": "markdown",
   "id": "a03da136-b600-4f8a-94a1-9243f97a2391",
   "metadata": {},
   "source": [
    "### Set"
   ]
  },
  {
   "cell_type": "code",
   "execution_count": 50,
   "id": "71da9218-67a8-4746-8a87-fc36b93d957d",
   "metadata": {},
   "outputs": [
    {
     "name": "stdout",
     "output_type": "stream",
     "text": [
      "{1, 2, 'l'}\n",
      "{9, 4, 5}\n"
     ]
    }
   ],
   "source": [
    "s = set((1,2,'l'))\n",
    "print(s)\n",
    "\n",
    "s = {4,5,9,9,9,9}\n",
    "print(s)"
   ]
  },
  {
   "cell_type": "code",
   "execution_count": 51,
   "id": "7469e205-4f7a-48b7-abd4-3bc7010b5bdc",
   "metadata": {},
   "outputs": [
    {
     "name": "stdout",
     "output_type": "stream",
     "text": [
      "{9, 4, 5, 6}\n"
     ]
    }
   ],
   "source": [
    "#Ajout d'un élément au set\n",
    "s.add(6)\n",
    "print(s)"
   ]
  },
  {
   "cell_type": "code",
   "execution_count": 52,
   "id": "1d6a9fa6-1df3-45cc-9813-a9525bd93b35",
   "metadata": {},
   "outputs": [
    {
     "name": "stdout",
     "output_type": "stream",
     "text": [
      "{9, 4, 6}\n"
     ]
    }
   ],
   "source": [
    "#Suppression d'un élément du set\n",
    "s.discard(5)\n",
    "print(s)"
   ]
  },
  {
   "cell_type": "code",
   "execution_count": 53,
   "id": "9bf72333-377f-45aa-8200-dbc1423ef110",
   "metadata": {},
   "outputs": [
    {
     "name": "stdout",
     "output_type": "stream",
     "text": [
      "set()\n"
     ]
    }
   ],
   "source": [
    "s.clear()\n",
    "print(s)"
   ]
  },
  {
   "cell_type": "code",
   "execution_count": 54,
   "id": "df41d914-39f5-4f0e-ad17-47bcf9add690",
   "metadata": {},
   "outputs": [],
   "source": [
    "A = {1,2,3,4,5}\n",
    "B = {2,4,6,7}\n",
    "C = {1,2,3}"
   ]
  },
  {
   "cell_type": "code",
   "execution_count": 55,
   "id": "6a04b5cc-0ee2-4f10-8600-43ae082e3eb5",
   "metadata": {},
   "outputs": [
    {
     "name": "stdout",
     "output_type": "stream",
     "text": [
      "Intersection de A et B = {2, 4}\n",
      "Union entre A et B = {1, 2, 3, 4, 5, 6, 7}\n",
      "Exclusion de B de A = {1, 3, 5}\n",
      "Diff sym. A et B = {1, 3, 5, 6, 7}\n"
     ]
    }
   ],
   "source": [
    "#Intersection\n",
    "print(\"Intersection de A et B =\", A&B)\n",
    "\n",
    "#Union\n",
    "print(\"Union entre A et B =\", A|B)\n",
    "\n",
    "#Exclusion\n",
    "print(\"Exclusion de B de A =\", A-B)\n",
    "\n",
    "#Différence symétrique\n",
    "print(\"Diff sym. A et B =\", A^B)"
   ]
  },
  {
   "cell_type": "code",
   "execution_count": 56,
   "id": "62436515-5142-463e-b939-b6f390549fb4",
   "metadata": {},
   "outputs": [
    {
     "name": "stdout",
     "output_type": "stream",
     "text": [
      "False\n",
      "C est inclus dans A\n"
     ]
    }
   ],
   "source": [
    "print(\"B est inclus strict dans A\") if A>B else print(False)\n",
    "print(\"C est inclus dans A\") if A>=C else print(False)"
   ]
  },
  {
   "cell_type": "markdown",
   "id": "5c983f45-d7fc-4924-911b-13937c110a36",
   "metadata": {},
   "source": [
    "### Dictionary"
   ]
  },
  {
   "cell_type": "code",
   "execution_count": 58,
   "id": "ffa8eb17-92e9-4cc9-8eea-418ca6bcf4a0",
   "metadata": {},
   "outputs": [
    {
     "name": "stdout",
     "output_type": "stream",
     "text": [
      "{'key1': 'value1', 'answer': 42}\n",
      "{'key1': 'value1', 'answer': 42}\n",
      "{'key1': 'value1', 'answer': 42}\n"
     ]
    },
    {
     "data": {
      "text/plain": [
       "42"
      ]
     },
     "execution_count": 58,
     "metadata": {},
     "output_type": "execute_result"
    }
   ],
   "source": [
    "# 1ère façon de créer un dictionnaire\n",
    "dic = {\"key1\": \"value1\", \"answer\": 42}\n",
    "# 2ème façon de créer un dictionnaire\n",
    "dic2 = dict(key1=\"value1\", answer=42)\n",
    "# 3ème façon de créer un dictionnaire\n",
    "dic3 = dict([(\"key1\",\"value1\"), (\"answer\",42)])\n",
    "print(dic)\n",
    "print(dic2)\n",
    "print(dic3)\n",
    "\n",
    "dic[\"answer\"]"
   ]
  },
  {
   "cell_type": "code",
   "execution_count": 59,
   "id": "2061def3-6e50-4190-93a8-7b9634505493",
   "metadata": {},
   "outputs": [],
   "source": [
    "dic['new'] = [1,2,3]"
   ]
  },
  {
   "cell_type": "code",
   "execution_count": 60,
   "id": "06693be1-378c-4bb0-9726-800dc7dce1b7",
   "metadata": {},
   "outputs": [
    {
     "data": {
      "text/plain": [
       "dict_keys(['key1', 'answer', 'new'])"
      ]
     },
     "execution_count": 60,
     "metadata": {},
     "output_type": "execute_result"
    }
   ],
   "source": [
    "dic.keys()"
   ]
  },
  {
   "cell_type": "code",
   "execution_count": 61,
   "id": "f708db44-838b-4098-b2cf-bf2335c77fa2",
   "metadata": {},
   "outputs": [
    {
     "data": {
      "text/plain": [
       "dict_items([('key1', 'value1'), ('answer', 42), ('new', [1, 2, 3])])"
      ]
     },
     "execution_count": 61,
     "metadata": {},
     "output_type": "execute_result"
    }
   ],
   "source": [
    "dic.items()"
   ]
  },
  {
   "cell_type": "code",
   "execution_count": 62,
   "id": "a14b0c50-05d9-4523-8166-f5482fbb6106",
   "metadata": {},
   "outputs": [
    {
     "data": {
      "text/plain": [
       "dict_values(['value1', 42, [1, 2, 3]])"
      ]
     },
     "execution_count": 62,
     "metadata": {},
     "output_type": "execute_result"
    }
   ],
   "source": [
    "dic.values()"
   ]
  },
  {
   "cell_type": "code",
   "execution_count": 63,
   "id": "be4c3770-e660-431f-8926-300c6f98d287",
   "metadata": {},
   "outputs": [
    {
     "name": "stdout",
     "output_type": "stream",
     "text": [
      "('key1', 'value1')\n"
     ]
    }
   ],
   "source": [
    "a,b,c = dic.items()\n",
    "print(a)"
   ]
  },
  {
   "cell_type": "markdown",
   "id": "b137a9a6-60c8-4c00-9a6f-596183340d27",
   "metadata": {
    "tags": []
   },
   "source": [
    "## Programmation Orientée Objet"
   ]
  },
  {
   "cell_type": "code",
   "execution_count": 65,
   "id": "66c1b630-ddd5-4d6b-bb66-6b2dfa496cf7",
   "metadata": {},
   "outputs": [],
   "source": [
    "\"\"\"\n",
    "Exemple de classe en Python\n",
    "\"\"\"\n",
    "class Moteur:\n",
    "    \n",
    "    # Constructeur\n",
    "    def __init__(self, esn, panne=False):\n",
    "        self.esn = esn\n",
    "        self.panne = panne\n",
    "    \n",
    "    # Méthodes\n",
    "    def dire_bonjour(self):\n",
    "        print('Bonjour, mon numéro de série est ' + self.esn)\n",
    "    \n",
    "    def fonctionne(self):\n",
    "        return not self.panne \n",
    "    "
   ]
  },
  {
   "cell_type": "code",
   "execution_count": 66,
   "id": "20290517-9ab3-4bad-ab86-5bc72280cff1",
   "metadata": {},
   "outputs": [
    {
     "name": "stdout",
     "output_type": "stream",
     "text": [
      "Bonjour, mon numéro de série est 420912\n",
      "True\n",
      "False\n",
      "\n",
      "\n",
      "Bonjour, mon numéro de série est 420913\n",
      "False\n"
     ]
    }
   ],
   "source": [
    "mot1 = Moteur('420912')\n",
    "mot2 = Moteur(panne=True, esn='420913')\n",
    "\n",
    "mot1.dire_bonjour()\n",
    "print(mot1.fonctionne())\n",
    "\n",
    "mot1.panne = True\n",
    "print(mot1.fonctionne())\n",
    "\n",
    "print('\\n')\n",
    "mot2.dire_bonjour()\n",
    "print(mot2.fonctionne())"
   ]
  },
  {
   "cell_type": "markdown",
   "id": "7425fc54-8c5f-49aa-a983-e0919eca56df",
   "metadata": {},
   "source": [
    "### Méthode récurcive vs Méthode itérative"
   ]
  },
  {
   "cell_type": "code",
   "execution_count": 68,
   "id": "77888025-c0af-492e-b2e9-c23b00642b28",
   "metadata": {},
   "outputs": [
    {
     "name": "stdout",
     "output_type": "stream",
     "text": [
      "120\n",
      "120\n"
     ]
    }
   ],
   "source": [
    "# Méthode récursive\n",
    "def fact1(n):\n",
    "    if n == 0:\n",
    "        return 1\n",
    "    else:\n",
    "        return n*fact1(n-1)\n",
    "\n",
    "# Méthode itérative\n",
    "def fact2(n):\n",
    "    s=1\n",
    "    for i in range(1,n+1):\n",
    "        s*=i\n",
    "    return s\n",
    "\n",
    "print(fact1(5))\n",
    "print(fact2(5))"
   ]
  },
  {
   "cell_type": "code",
   "execution_count": 69,
   "id": "af75da2d-f5d1-4841-add1-7714fb9d2084",
   "metadata": {},
   "outputs": [
    {
     "data": {
      "text/plain": [
       "'\\nApp.1 : Ecrire une fonction qui retourne le plus grand commun diviseur (pgcd) entre deux nombres a et b.\\n'"
      ]
     },
     "execution_count": 69,
     "metadata": {},
     "output_type": "execute_result"
    }
   ],
   "source": [
    "\"\"\"\n",
    "App.1 : Ecrire une fonction qui retourne le plus grand commun diviseur (pgcd) entre deux nombres a et b.\n",
    "\"\"\""
   ]
  },
  {
   "cell_type": "code",
   "execution_count": 70,
   "id": "b0a390d4-c04d-4398-b9cd-2f85b836e263",
   "metadata": {},
   "outputs": [
    {
     "name": "stdout",
     "output_type": "stream",
     "text": [
      "pgcd1(a,b) =  5\n",
      "pgcd2(a,b) =  5\n"
     ]
    }
   ],
   "source": [
    "\"\"\"\n",
    "App.1 : Correction\n",
    "\"\"\"\n",
    "\n",
    "#Méthode itérative\n",
    "def pgcd1(a,b):\n",
    "    while (a%b) != 0:\n",
    "        s = a%b\n",
    "        a = b\n",
    "        b = s\n",
    "    return b\n",
    "\n",
    "\n",
    "#Méthode récurcive\n",
    "def pgcd2(a,b):\n",
    "    if a==b : return a \n",
    "    if a<b : a,b = b,a\n",
    "    return pgcd2(a-b,b)\n",
    "\n",
    "a = 230\n",
    "b = 25\n",
    "\n",
    "print(\"pgcd1(a,b) = \", pgcd1(a,b))\n",
    "print(\"pgcd2(a,b) = \", pgcd2(a,b))"
   ]
  },
  {
   "cell_type": "markdown",
   "id": "335ef98a-5f95-453d-a6b7-2d199360e2cd",
   "metadata": {},
   "source": [
    "## Libraries"
   ]
  },
  {
   "cell_type": "markdown",
   "id": "34dce20e-1f94-45cb-93cc-db98c522919a",
   "metadata": {},
   "source": [
    "> pip install numpy pandas\n",
    "\n",
    "> pip3 install -U numpy pandas"
   ]
  },
  {
   "cell_type": "markdown",
   "id": "ee32799a-2dbd-479c-8a99-162522f1cbac",
   "metadata": {},
   "source": [
    "### Math"
   ]
  },
  {
   "cell_type": "code",
   "execution_count": 74,
   "id": "27fe5f91-bd00-409b-9fbe-fb751723ad02",
   "metadata": {},
   "outputs": [],
   "source": [
    "import math"
   ]
  },
  {
   "cell_type": "code",
   "execution_count": 75,
   "id": "641ce75e-83bb-4c75-901a-f46a85448d8e",
   "metadata": {},
   "outputs": [
    {
     "name": "stdout",
     "output_type": "stream",
     "text": [
      "sqrt(x) = 2.0\n",
      "cos(x) = -0.6536436208636119\n",
      "sin(x) = -0.7568024953079282\n",
      "factorial(x) = 24\n"
     ]
    }
   ],
   "source": [
    "x = 4\n",
    "\n",
    "print(\"sqrt(x) =\", math.sqrt(x))\n",
    "print(\"cos(x) =\", math.cos(x))\n",
    "print(\"sin(x) =\", math.sin(x))\n",
    "print(\"factorial(x) =\", math.factorial(x))"
   ]
  },
  {
   "cell_type": "markdown",
   "id": "45942361-083f-4c23-a100-d7f3a0877423",
   "metadata": {
    "tags": []
   },
   "source": [
    "### Numpy"
   ]
  },
  {
   "cell_type": "code",
   "execution_count": 77,
   "id": "aa7544d7-61c4-4aae-a6a5-496a157941b4",
   "metadata": {},
   "outputs": [],
   "source": [
    "import numpy as np"
   ]
  },
  {
   "cell_type": "code",
   "execution_count": 78,
   "id": "3eb41dca-dcfc-45e5-8c39-ce317121a912",
   "metadata": {},
   "outputs": [
    {
     "data": {
      "text/plain": [
       "array([[0., 0., 0., 0.],\n",
       "       [0., 0., 0., 0.],\n",
       "       [0., 0., 0., 0.]])"
      ]
     },
     "execution_count": 78,
     "metadata": {},
     "output_type": "execute_result"
    }
   ],
   "source": [
    "# Création d'un array à partir d'une liste\n",
    "v = np.array([1.0, 2.0, 3.0])\n",
    "# Création d'un array de taille (n,m) initialisé à 0\n",
    "z = np.zeros((3,4))\n",
    "z"
   ]
  },
  {
   "cell_type": "code",
   "execution_count": 79,
   "id": "ac7cdabb-3591-4b7a-b308-192a0624cc11",
   "metadata": {},
   "outputs": [
    {
     "name": "stdout",
     "output_type": "stream",
     "text": [
      "(3, 4)\n",
      "(3,)\n"
     ]
    }
   ],
   "source": [
    "# Taille d'un array\n",
    "print(z.shape)\n",
    "print(v.shape)"
   ]
  },
  {
   "cell_type": "code",
   "execution_count": 80,
   "id": "b4b8b030-ab39-40be-9c6c-d0ba78ddb971",
   "metadata": {},
   "outputs": [
    {
     "name": "stdout",
     "output_type": "stream",
     "text": [
      "A =  [[2. 1. 1.]\n",
      " [1. 2. 1.]\n",
      " [1. 1. 2.]]\n",
      "Av =  [7. 8. 9.]\n",
      "3*A =  [[6. 3. 3.]\n",
      " [3. 6. 3.]\n",
      " [3. 3. 6.]]\n",
      "A*v =  [[2. 2. 3.]\n",
      " [1. 4. 3.]\n",
      " [1. 2. 6.]]\n",
      "A + 1 =  [[3. 2. 2.]\n",
      " [2. 3. 2.]\n",
      " [2. 2. 3.]]\n",
      "A + v =  [[3. 3. 4.]\n",
      " [2. 4. 4.]\n",
      " [2. 3. 5.]]\n",
      "A^2 =  [[4. 1. 1.]\n",
      " [1. 4. 1.]\n",
      " [1. 1. 4.]]\n"
     ]
    }
   ],
   "source": [
    "# Opérations courantes\n",
    "A = np.ones((3,3)) + np.eye(3)\n",
    "print('A = ', A)\n",
    "print('Av = ', np.dot(A,v))\n",
    "print('3*A = ', 3*A)\n",
    "print('A*v = ', A*v)\n",
    "print('A + 1 = ', A+1)\n",
    "print('A + v = ', A+v)\n",
    "print('A^2 = ', np.square(A))"
   ]
  },
  {
   "cell_type": "code",
   "execution_count": 81,
   "id": "22507d09-f213-40c4-9328-2acefcaac78e",
   "metadata": {},
   "outputs": [
    {
     "name": "stdout",
     "output_type": "stream",
     "text": [
      "[1 2 5 9]\n"
     ]
    }
   ],
   "source": [
    "B = np.array([5, 2, 9, 1])\n",
    "\n",
    "print(np.sort(B))"
   ]
  },
  {
   "cell_type": "markdown",
   "id": "0393ae0a-4841-49fa-a19d-fd79b16707c1",
   "metadata": {},
   "source": [
    "#### Compatif de performance : produit matriciel\n"
   ]
  },
  {
   "cell_type": "code",
   "execution_count": 83,
   "id": "2cc82968-354a-4065-b039-ff50d852ef38",
   "metadata": {},
   "outputs": [],
   "source": [
    "import random"
   ]
  },
  {
   "cell_type": "code",
   "execution_count": 84,
   "id": "555a2783-9d39-4fa0-820c-d05395a42863",
   "metadata": {},
   "outputs": [],
   "source": [
    "# Création d'une matrice aléatoire sous forme de liste de listes\n",
    "taille = 2\n",
    "A = [[random.random() for _ in range(taille)] for _ in range(taille)]"
   ]
  },
  {
   "cell_type": "code",
   "execution_count": 85,
   "id": "a9a0ed33-f5b1-4be9-afb0-2cd03a554b14",
   "metadata": {},
   "outputs": [
    {
     "name": "stdout",
     "output_type": "stream",
     "text": [
      "[[0.8272847065448604, 0.7143446676065326], [0.5816708431935876, 0.7961542933637881]]\n"
     ]
    }
   ],
   "source": [
    "print(A)"
   ]
  },
  {
   "cell_type": "code",
   "execution_count": 86,
   "id": "d0a7c16c-d2ba-4ece-ba30-39a90fcf3539",
   "metadata": {},
   "outputs": [
    {
     "data": {
      "text/plain": [
       "(2, 2)"
      ]
     },
     "execution_count": 86,
     "metadata": {},
     "output_type": "execute_result"
    }
   ],
   "source": [
    "\"\"\"\n",
    "EXERCICE - Afficher un tuple contenant les dimensions de la matrice A\n",
    "\"\"\"\n",
    "(len(A),len(A[0]))\n",
    "\n",
    "\n",
    "        #raise NotImplementedError"
   ]
  },
  {
   "cell_type": "markdown",
   "id": "98f2a7f1-113f-4757-8706-166b163d65ce",
   "metadata": {},
   "source": [
    "$$ (AB)_{ij} = \\sum_k A_{ik} B_{kj} $$"
   ]
  },
  {
   "cell_type": "code",
   "execution_count": 88,
   "id": "8a80f0bb-5f31-4471-ae47-3886decff6ac",
   "metadata": {},
   "outputs": [],
   "source": [
    "\"\"\"\n",
    "EXERCICE - Implémenter le produit matriciel de 2 matrices sous forme de listes de listes python\n",
    "\"\"\"\n",
    "def prodmath(A,B):\n",
    "    A=np.array(A)\n",
    "    B=np.array(B)\n",
    "    B=B.T\n",
    "    n=len(A[0])\n",
    "    C=np.zeros((len(A),len(B[0])))\n",
    "    for i in range(len(A)):\n",
    "        for j in range(len(B[0])):\n",
    "            C[i][j]=np.dot(A[i],(B[j]))\n",
    "    return C  \n",
    "            \n",
    "#raise NotImplementedError"
   ]
  },
  {
   "cell_type": "code",
   "execution_count": 89,
   "id": "19bd477e-abfa-4e28-bbcb-a1c3671b044d",
   "metadata": {},
   "outputs": [],
   "source": [
    "taille = 3\n",
    "A= [[random.random() for _ in range(taille)] for _ in range(taille)]\n",
    "B= [[random.random() for _ in range(taille)] for _ in range(taille)]\n",
    "C=prodmath(A,B)"
   ]
  },
  {
   "cell_type": "code",
   "execution_count": 90,
   "id": "b4557582-a050-42a4-8001-5225e5a30d7f",
   "metadata": {},
   "outputs": [
    {
     "name": "stdout",
     "output_type": "stream",
     "text": [
      "Test réussi\n"
     ]
    }
   ],
   "source": [
    " #Vérification\n",
    "Z = [[1, 2], [3, 4]]\n",
    "result = prodmath(Z, Z)\n",
    "expected = np.array([[7, 10], [15, 22]])\n",
    "\n",
    "# Comparaison avec np.array_equal\n",
    "assert np.array_equal(result, expected), \"Les matrices ne sont pas égales\"\n",
    "\n",
    "print(\"Test réussi\")"
   ]
  },
  {
   "cell_type": "code",
   "execution_count": 91,
   "id": "e8cbb3fc-25eb-469d-9cb7-53ac7bdff8c4",
   "metadata": {},
   "outputs": [],
   "source": [
    "taille = 3000\n",
    "A= [[random.random() for _ in range(taille)] for _ in range(taille)]"
   ]
  },
  {
   "cell_type": "code",
   "execution_count": 92,
   "id": "27645edc-c5ed-4c42-90ad-bbea79ee4979",
   "metadata": {},
   "outputs": [],
   "source": [
    "# Sortons le chronomètre\n",
    "#%timeit prodmath(A, A);"
   ]
  },
  {
   "cell_type": "code",
   "execution_count": 93,
   "id": "5658e3cc-5ad1-459d-b18d-dece00e03da0",
   "metadata": {},
   "outputs": [],
   "source": [
    "# Et maintenant, avec numpy !\n",
    "import numpy as np"
   ]
  },
  {
   "cell_type": "code",
   "execution_count": 94,
   "id": "39003f54-3a1b-4df2-a68e-6e0bb54e2468",
   "metadata": {},
   "outputs": [],
   "source": [
    "A2 = np.array(A)\n",
    "#print(A2);"
   ]
  },
  {
   "cell_type": "code",
   "execution_count": 95,
   "id": "d4abaf47-4059-4e35-83e8-7ee9673c2e2e",
   "metadata": {},
   "outputs": [],
   "source": [
    "#%timeit np.dot(A, A)"
   ]
  },
  {
   "cell_type": "markdown",
   "id": "79928725-48a4-4dd2-ae50-99783ed90d87",
   "metadata": {},
   "source": [
    "# EXERCICE - Remplissez le tableau suivant avec les durées d'exécution constatées :\n",
    "\n",
    "(Conseil : pour la taille 3000, essayez UNIQUEMENT avec numpy)\n",
    "\n",
    "Taille | Python | numpy\n",
    "-------|--------|-------\n",
    "30     | 28.6 us   | 2.16 us\n",
    "300    | 309ms   | 19.5ms\n",
    "3000   | XXX    | 2.75 s"
   ]
  },
  {
   "cell_type": "markdown",
   "id": "f83a4e6a-95b0-46fa-8109-10765c3997f1",
   "metadata": {},
   "source": [
    "###  Pandas"
   ]
  },
  {
   "cell_type": "code",
   "execution_count": 98,
   "id": "9f767f8d-333c-41ff-b5ed-45b840466af9",
   "metadata": {},
   "outputs": [],
   "source": [
    "import pandas as pd\n",
    "import os\n",
    "import numpy as np"
   ]
  },
  {
   "cell_type": "code",
   "execution_count": 99,
   "id": "7ea3ab2b-4c8c-4217-99ab-8135a7ba08b7",
   "metadata": {},
   "outputs": [
    {
     "data": {
      "text/html": [
       "<div>\n",
       "<style scoped>\n",
       "    .dataframe tbody tr th:only-of-type {\n",
       "        vertical-align: middle;\n",
       "    }\n",
       "\n",
       "    .dataframe tbody tr th {\n",
       "        vertical-align: top;\n",
       "    }\n",
       "\n",
       "    .dataframe thead th {\n",
       "        text-align: right;\n",
       "    }\n",
       "</style>\n",
       "<table border=\"1\" class=\"dataframe\">\n",
       "  <thead>\n",
       "    <tr style=\"text-align: right;\">\n",
       "      <th></th>\n",
       "      <th>ESN</th>\n",
       "      <th>panne</th>\n",
       "    </tr>\n",
       "  </thead>\n",
       "  <tbody>\n",
       "    <tr>\n",
       "      <th>0</th>\n",
       "      <td>E420912</td>\n",
       "      <td>False</td>\n",
       "    </tr>\n",
       "    <tr>\n",
       "      <th>1</th>\n",
       "      <td>E420913</td>\n",
       "      <td>False</td>\n",
       "    </tr>\n",
       "    <tr>\n",
       "      <th>2</th>\n",
       "      <td>E420914</td>\n",
       "      <td>True</td>\n",
       "    </tr>\n",
       "  </tbody>\n",
       "</table>\n",
       "</div>"
      ],
      "text/plain": [
       "       ESN  panne\n",
       "0  E420912  False\n",
       "1  E420913  False\n",
       "2  E420914   True"
      ]
     },
     "execution_count": 99,
     "metadata": {},
     "output_type": "execute_result"
    }
   ],
   "source": [
    "df_exemple = pd.DataFrame({\"ESN\": [\"E420912\", \"E420913\", \"E420914\"], \"panne\": [False, False, True]})\n",
    "df_exemple"
   ]
  },
  {
   "cell_type": "markdown",
   "id": "3eaef54e-f9f2-486d-8e11-4519680a764b",
   "metadata": {},
   "source": [
    "#### Lecture et prétraitement de données\n"
   ]
  },
  {
   "cell_type": "code",
   "execution_count": 101,
   "id": "ee2386c9",
   "metadata": {},
   "outputs": [
    {
     "data": {
      "text/plain": [
       "'C:\\\\Users\\\\jalil\\\\OneDrive\\\\Desktop\\\\MACS3\\\\analyse_donnée\\\\MACS3_Stats_TDs\\\\TD1'"
      ]
     },
     "execution_count": 101,
     "metadata": {},
     "output_type": "execute_result"
    }
   ],
   "source": [
    " os.getcwd()"
   ]
  },
  {
   "cell_type": "code",
   "execution_count": 102,
   "id": "78c64597-73b2-443c-b0cf-aa2989f6ef8d",
   "metadata": {},
   "outputs": [
    {
     "data": {
      "text/html": [
       "<div>\n",
       "<style scoped>\n",
       "    .dataframe tbody tr th:only-of-type {\n",
       "        vertical-align: middle;\n",
       "    }\n",
       "\n",
       "    .dataframe tbody tr th {\n",
       "        vertical-align: top;\n",
       "    }\n",
       "\n",
       "    .dataframe thead th {\n",
       "        text-align: right;\n",
       "    }\n",
       "</style>\n",
       "<table border=\"1\" class=\"dataframe\">\n",
       "  <thead>\n",
       "    <tr style=\"text-align: right;\">\n",
       "      <th></th>\n",
       "      <th>t</th>\n",
       "      <th>EGT_SEL</th>\n",
       "      <th>FLIGHT_MOD</th>\n",
       "      <th>FMV_SEL</th>\n",
       "      <th>HPTC_SEL</th>\n",
       "      <th>LPTC_SEL</th>\n",
       "      <th>N1_SEL</th>\n",
       "      <th>N2_ACTSEL</th>\n",
       "      <th>OIL_P</th>\n",
       "      <th>OIL_TEMP</th>\n",
       "      <th>...</th>\n",
       "      <th>T25_SEL</th>\n",
       "      <th>T3_SEL</th>\n",
       "      <th>VBV_SEL</th>\n",
       "      <th>VIB_CN1</th>\n",
       "      <th>VIB_CN2</th>\n",
       "      <th>VIB_TN1</th>\n",
       "      <th>VIB_TN2</th>\n",
       "      <th>VSV_SEL</th>\n",
       "      <th>WFM_SEL</th>\n",
       "      <th>XM</th>\n",
       "    </tr>\n",
       "  </thead>\n",
       "  <tbody>\n",
       "    <tr>\n",
       "      <th>0</th>\n",
       "      <td>datenum</td>\n",
       "      <td>deg_C</td>\n",
       "      <td>_</td>\n",
       "      <td>_</td>\n",
       "      <td>%</td>\n",
       "      <td>%</td>\n",
       "      <td>%</td>\n",
       "      <td>%_RPM</td>\n",
       "      <td>psi</td>\n",
       "      <td>_</td>\n",
       "      <td>...</td>\n",
       "      <td>_</td>\n",
       "      <td>_</td>\n",
       "      <td>DEG</td>\n",
       "      <td>_</td>\n",
       "      <td>_</td>\n",
       "      <td>_</td>\n",
       "      <td>_</td>\n",
       "      <td>DEG</td>\n",
       "      <td>lb/h</td>\n",
       "      <td>mach</td>\n",
       "    </tr>\n",
       "    <tr>\n",
       "      <th>1</th>\n",
       "      <td>15/09/2011 14:25:58.125</td>\n",
       "      <td>NaN</td>\n",
       "      <td>NaN</td>\n",
       "      <td>NaN</td>\n",
       "      <td>NaN</td>\n",
       "      <td>NaN</td>\n",
       "      <td>NaN</td>\n",
       "      <td>0</td>\n",
       "      <td>NaN</td>\n",
       "      <td>NaN</td>\n",
       "      <td>...</td>\n",
       "      <td>NaN</td>\n",
       "      <td>NaN</td>\n",
       "      <td>NaN</td>\n",
       "      <td>NaN</td>\n",
       "      <td>NaN</td>\n",
       "      <td>NaN</td>\n",
       "      <td>NaN</td>\n",
       "      <td>NaN</td>\n",
       "      <td>NaN</td>\n",
       "      <td>NaN</td>\n",
       "    </tr>\n",
       "    <tr>\n",
       "      <th>2</th>\n",
       "      <td>15/09/2011 14:25:58.375</td>\n",
       "      <td>NaN</td>\n",
       "      <td>NaN</td>\n",
       "      <td>NaN</td>\n",
       "      <td>NaN</td>\n",
       "      <td>NaN</td>\n",
       "      <td>NaN</td>\n",
       "      <td>0</td>\n",
       "      <td>NaN</td>\n",
       "      <td>NaN</td>\n",
       "      <td>...</td>\n",
       "      <td>NaN</td>\n",
       "      <td>NaN</td>\n",
       "      <td>NaN</td>\n",
       "      <td>NaN</td>\n",
       "      <td>NaN</td>\n",
       "      <td>NaN</td>\n",
       "      <td>NaN</td>\n",
       "      <td>NaN</td>\n",
       "      <td>NaN</td>\n",
       "      <td>NaN</td>\n",
       "    </tr>\n",
       "    <tr>\n",
       "      <th>3</th>\n",
       "      <td>15/09/2011 14:25:58.625</td>\n",
       "      <td>NaN</td>\n",
       "      <td>NaN</td>\n",
       "      <td>NaN</td>\n",
       "      <td>NaN</td>\n",
       "      <td>NaN</td>\n",
       "      <td>NaN</td>\n",
       "      <td>0</td>\n",
       "      <td>NaN</td>\n",
       "      <td>NaN</td>\n",
       "      <td>...</td>\n",
       "      <td>NaN</td>\n",
       "      <td>NaN</td>\n",
       "      <td>NaN</td>\n",
       "      <td>NaN</td>\n",
       "      <td>NaN</td>\n",
       "      <td>NaN</td>\n",
       "      <td>NaN</td>\n",
       "      <td>NaN</td>\n",
       "      <td>NaN</td>\n",
       "      <td>NaN</td>\n",
       "    </tr>\n",
       "    <tr>\n",
       "      <th>4</th>\n",
       "      <td>15/09/2011 14:25:58.875</td>\n",
       "      <td>NaN</td>\n",
       "      <td>NaN</td>\n",
       "      <td>NaN</td>\n",
       "      <td>NaN</td>\n",
       "      <td>NaN</td>\n",
       "      <td>NaN</td>\n",
       "      <td>0</td>\n",
       "      <td>NaN</td>\n",
       "      <td>NaN</td>\n",
       "      <td>...</td>\n",
       "      <td>NaN</td>\n",
       "      <td>NaN</td>\n",
       "      <td>NaN</td>\n",
       "      <td>NaN</td>\n",
       "      <td>NaN</td>\n",
       "      <td>NaN</td>\n",
       "      <td>NaN</td>\n",
       "      <td>NaN</td>\n",
       "      <td>7679.98</td>\n",
       "      <td>0.15</td>\n",
       "    </tr>\n",
       "  </tbody>\n",
       "</table>\n",
       "<p>5 rows × 26 columns</p>\n",
       "</div>"
      ],
      "text/plain": [
       "                         t EGT_SEL FLIGHT_MOD FMV_SEL HPTC_SEL LPTC_SEL  \\\n",
       "0                  datenum   deg_C          _       _        %        %   \n",
       "1  15/09/2011 14:25:58.125     NaN        NaN     NaN      NaN      NaN   \n",
       "2  15/09/2011 14:25:58.375     NaN        NaN     NaN      NaN      NaN   \n",
       "3  15/09/2011 14:25:58.625     NaN        NaN     NaN      NaN      NaN   \n",
       "4  15/09/2011 14:25:58.875     NaN        NaN     NaN      NaN      NaN   \n",
       "\n",
       "  N1_SEL N2_ACTSEL OIL_P OIL_TEMP  ... T25_SEL T3_SEL VBV_SEL VIB_CN1 VIB_CN2  \\\n",
       "0      %     %_RPM   psi        _  ...       _      _     DEG       _       _   \n",
       "1    NaN         0   NaN      NaN  ...     NaN    NaN     NaN     NaN     NaN   \n",
       "2    NaN         0   NaN      NaN  ...     NaN    NaN     NaN     NaN     NaN   \n",
       "3    NaN         0   NaN      NaN  ...     NaN    NaN     NaN     NaN     NaN   \n",
       "4    NaN         0   NaN      NaN  ...     NaN    NaN     NaN     NaN     NaN   \n",
       "\n",
       "  VIB_TN1 VIB_TN2 VSV_SEL  WFM_SEL    XM  \n",
       "0       _       _     DEG     lb/h  mach  \n",
       "1     NaN     NaN     NaN      NaN   NaN  \n",
       "2     NaN     NaN     NaN      NaN   NaN  \n",
       "3     NaN     NaN     NaN      NaN   NaN  \n",
       "4     NaN     NaN     NaN  7679.98  0.15  \n",
       "\n",
       "[5 rows x 26 columns]"
      ]
     },
     "execution_count": 102,
     "metadata": {},
     "output_type": "execute_result"
    }
   ],
   "source": [
    "# Chargement d'un fichier CSV ou Excel\n",
    "df = pd.read_csv(\"../data/Vol010.csv\")\n",
    "# Affichage des 5 premières lignes\n",
    "df.head()"
   ]
  },
  {
   "cell_type": "code",
   "execution_count": 103,
   "id": "eb4f6d36-3859-4e29-bf52-2b22a1315450",
   "metadata": {},
   "outputs": [
    {
     "name": "stdout",
     "output_type": "stream",
     "text": [
      "Nombre de colonnes : 26\n",
      "Nombre de lignes : 22945\n"
     ]
    }
   ],
   "source": [
    "\"\"\"\n",
    "EXERCICE - Dimensions d'un DataFrame\n",
    "Affichez le nombre de colonnes et de ligne du DataFrame (indice : beaucoup de méthodes sont communes entre numpy et pandas)\n",
    "\"\"\"\n",
    "print('Nombre de colonnes :',df.shape[1] )\n",
    "print('Nombre de lignes :',df.shape[0] )"
   ]
  },
  {
   "cell_type": "code",
   "execution_count": 104,
   "id": "750285eb-c7a4-4add-a456-ca7dba6da8d3",
   "metadata": {},
   "outputs": [
    {
     "data": {
      "text/plain": [
       "(596570, 22945)"
      ]
     },
     "execution_count": 104,
     "metadata": {},
     "output_type": "execute_result"
    }
   ],
   "source": [
    "df.size, len(df)"
   ]
  },
  {
   "cell_type": "code",
   "execution_count": 105,
   "id": "7a84eae1-7967-4fcb-8ea3-6b75a4114c44",
   "metadata": {},
   "outputs": [
    {
     "data": {
      "text/plain": [
       "Index(['t', 'EGT_SEL', 'FLIGHT_MOD', 'FMV_SEL', 'HPTC_SEL', 'LPTC_SEL',\n",
       "       'N1_SEL', 'N2_ACTSEL', 'OIL_P', 'OIL_TEMP', 'PS3_SEL', 'PT2_SEL',\n",
       "       'P0_SEL', 'TAT', 'TBV_SEL', 'TRA_SEL', 'T25_SEL', 'T3_SEL', 'VBV_SEL',\n",
       "       'VIB_CN1', 'VIB_CN2', 'VIB_TN1', 'VIB_TN2', 'VSV_SEL', 'WFM_SEL', 'XM'],\n",
       "      dtype='object')"
      ]
     },
     "execution_count": 105,
     "metadata": {},
     "output_type": "execute_result"
    }
   ],
   "source": [
    "df.columns"
   ]
  },
  {
   "cell_type": "markdown",
   "id": "b6d406bd-7963-48c0-b02a-a072a091ca10",
   "metadata": {},
   "source": [
    "Les colonnes des DF sont typées, à la manière d'une base de données relationnelle, contrairement aux variables python classiques. Les types des colonnes sont accessibles via df.dtypes. Les principaux types sont les numériques (int32, int64, float etc."
   ]
  },
  {
   "cell_type": "code",
   "execution_count": 107,
   "id": "ab0b2e8b-c7f1-40dd-855c-150d726370d3",
   "metadata": {},
   "outputs": [
    {
     "data": {
      "text/html": [
       "<div>\n",
       "<style scoped>\n",
       "    .dataframe tbody tr th:only-of-type {\n",
       "        vertical-align: middle;\n",
       "    }\n",
       "\n",
       "    .dataframe tbody tr th {\n",
       "        vertical-align: top;\n",
       "    }\n",
       "\n",
       "    .dataframe thead th {\n",
       "        text-align: right;\n",
       "    }\n",
       "</style>\n",
       "<table border=\"1\" class=\"dataframe\">\n",
       "  <thead>\n",
       "    <tr style=\"text-align: right;\">\n",
       "      <th></th>\n",
       "      <th>EGT_SEL</th>\n",
       "      <th>FLIGHT_MOD</th>\n",
       "    </tr>\n",
       "  </thead>\n",
       "  <tbody>\n",
       "    <tr>\n",
       "      <th>10</th>\n",
       "      <td>0.00234327</td>\n",
       "      <td>NaN</td>\n",
       "    </tr>\n",
       "    <tr>\n",
       "      <th>11</th>\n",
       "      <td>1.08032e-007</td>\n",
       "      <td>NaN</td>\n",
       "    </tr>\n",
       "    <tr>\n",
       "      <th>12</th>\n",
       "      <td>3.12514e-012</td>\n",
       "      <td>NaN</td>\n",
       "    </tr>\n",
       "    <tr>\n",
       "      <th>13</th>\n",
       "      <td>0</td>\n",
       "      <td>NaN</td>\n",
       "    </tr>\n",
       "    <tr>\n",
       "      <th>14</th>\n",
       "      <td>72.0006</td>\n",
       "      <td>NaN</td>\n",
       "    </tr>\n",
       "    <tr>\n",
       "      <th>15</th>\n",
       "      <td>215.996</td>\n",
       "      <td>NaN</td>\n",
       "    </tr>\n",
       "  </tbody>\n",
       "</table>\n",
       "</div>"
      ],
      "text/plain": [
       "         EGT_SEL FLIGHT_MOD\n",
       "10    0.00234327        NaN\n",
       "11  1.08032e-007        NaN\n",
       "12  3.12514e-012        NaN\n",
       "13             0        NaN\n",
       "14       72.0006        NaN\n",
       "15       215.996        NaN"
      ]
     },
     "execution_count": 107,
     "metadata": {},
     "output_type": "execute_result"
    }
   ],
   "source": [
    "df.loc[10:15, ['EGT_SEL', 'FLIGHT_MOD']]"
   ]
  },
  {
   "cell_type": "markdown",
   "id": "92d64780-f98b-4021-885e-8fc15509c192",
   "metadata": {},
   "source": [
    "\"\"\"\n",
    "EXERCICE - Extraction et suppression des unités\n",
    "On remarque que la 1ère ligne ne contient pas de données mais les unités de chaque colonne.\n",
    "Pour la suite des traitements, il faut supprimer cette ligne. On souhaite toutefois garder l'information des unités de chaque colonne.\n",
    "1. Récupérez les unités et stockez les dans une structure adaptée.\n",
    "2. Supprimez cette ligne du DataFrame en utilisant la méthode \"drop\"\n",
    "\"\"\"\n"
   ]
  },
  {
   "cell_type": "code",
   "execution_count": 109,
   "id": "3eae5172-13ee-4a6d-a276-80e12e24b313",
   "metadata": {},
   "outputs": [],
   "source": [
    "#recupération et stockage\n",
    "units = list(df.iloc[0])\n",
    "#suppresion\n",
    "df=df.drop(0)\n",
    "#raise NotImplementedError"
   ]
  },
  {
   "cell_type": "code",
   "execution_count": 110,
   "id": "553b87e6-f67a-4016-9501-c2f045a5ba2a",
   "metadata": {},
   "outputs": [
    {
     "name": "stdout",
     "output_type": "stream",
     "text": [
      "['datenum', 'deg_C', '_', '_', '%', '%', '%', '%_RPM', 'psi', '_', 'psi', 'mb', 'psi', 'deg_C', '%', 'DEG', '_', '_', 'DEG', '_', '_', '_', '_', 'DEG', 'lb/h', 'mach']\n"
     ]
    },
    {
     "data": {
      "text/html": [
       "<div>\n",
       "<style scoped>\n",
       "    .dataframe tbody tr th:only-of-type {\n",
       "        vertical-align: middle;\n",
       "    }\n",
       "\n",
       "    .dataframe tbody tr th {\n",
       "        vertical-align: top;\n",
       "    }\n",
       "\n",
       "    .dataframe thead th {\n",
       "        text-align: right;\n",
       "    }\n",
       "</style>\n",
       "<table border=\"1\" class=\"dataframe\">\n",
       "  <thead>\n",
       "    <tr style=\"text-align: right;\">\n",
       "      <th></th>\n",
       "      <th>t</th>\n",
       "      <th>EGT_SEL</th>\n",
       "      <th>FLIGHT_MOD</th>\n",
       "      <th>FMV_SEL</th>\n",
       "      <th>HPTC_SEL</th>\n",
       "      <th>LPTC_SEL</th>\n",
       "      <th>N1_SEL</th>\n",
       "      <th>N2_ACTSEL</th>\n",
       "      <th>OIL_P</th>\n",
       "      <th>OIL_TEMP</th>\n",
       "      <th>...</th>\n",
       "      <th>T25_SEL</th>\n",
       "      <th>T3_SEL</th>\n",
       "      <th>VBV_SEL</th>\n",
       "      <th>VIB_CN1</th>\n",
       "      <th>VIB_CN2</th>\n",
       "      <th>VIB_TN1</th>\n",
       "      <th>VIB_TN2</th>\n",
       "      <th>VSV_SEL</th>\n",
       "      <th>WFM_SEL</th>\n",
       "      <th>XM</th>\n",
       "    </tr>\n",
       "  </thead>\n",
       "  <tbody>\n",
       "    <tr>\n",
       "      <th>1</th>\n",
       "      <td>15/09/2011 14:25:58.125</td>\n",
       "      <td>NaN</td>\n",
       "      <td>NaN</td>\n",
       "      <td>NaN</td>\n",
       "      <td>NaN</td>\n",
       "      <td>NaN</td>\n",
       "      <td>NaN</td>\n",
       "      <td>0</td>\n",
       "      <td>NaN</td>\n",
       "      <td>NaN</td>\n",
       "      <td>...</td>\n",
       "      <td>NaN</td>\n",
       "      <td>NaN</td>\n",
       "      <td>NaN</td>\n",
       "      <td>NaN</td>\n",
       "      <td>NaN</td>\n",
       "      <td>NaN</td>\n",
       "      <td>NaN</td>\n",
       "      <td>NaN</td>\n",
       "      <td>NaN</td>\n",
       "      <td>NaN</td>\n",
       "    </tr>\n",
       "    <tr>\n",
       "      <th>2</th>\n",
       "      <td>15/09/2011 14:25:58.375</td>\n",
       "      <td>NaN</td>\n",
       "      <td>NaN</td>\n",
       "      <td>NaN</td>\n",
       "      <td>NaN</td>\n",
       "      <td>NaN</td>\n",
       "      <td>NaN</td>\n",
       "      <td>0</td>\n",
       "      <td>NaN</td>\n",
       "      <td>NaN</td>\n",
       "      <td>...</td>\n",
       "      <td>NaN</td>\n",
       "      <td>NaN</td>\n",
       "      <td>NaN</td>\n",
       "      <td>NaN</td>\n",
       "      <td>NaN</td>\n",
       "      <td>NaN</td>\n",
       "      <td>NaN</td>\n",
       "      <td>NaN</td>\n",
       "      <td>NaN</td>\n",
       "      <td>NaN</td>\n",
       "    </tr>\n",
       "    <tr>\n",
       "      <th>3</th>\n",
       "      <td>15/09/2011 14:25:58.625</td>\n",
       "      <td>NaN</td>\n",
       "      <td>NaN</td>\n",
       "      <td>NaN</td>\n",
       "      <td>NaN</td>\n",
       "      <td>NaN</td>\n",
       "      <td>NaN</td>\n",
       "      <td>0</td>\n",
       "      <td>NaN</td>\n",
       "      <td>NaN</td>\n",
       "      <td>...</td>\n",
       "      <td>NaN</td>\n",
       "      <td>NaN</td>\n",
       "      <td>NaN</td>\n",
       "      <td>NaN</td>\n",
       "      <td>NaN</td>\n",
       "      <td>NaN</td>\n",
       "      <td>NaN</td>\n",
       "      <td>NaN</td>\n",
       "      <td>NaN</td>\n",
       "      <td>NaN</td>\n",
       "    </tr>\n",
       "    <tr>\n",
       "      <th>4</th>\n",
       "      <td>15/09/2011 14:25:58.875</td>\n",
       "      <td>NaN</td>\n",
       "      <td>NaN</td>\n",
       "      <td>NaN</td>\n",
       "      <td>NaN</td>\n",
       "      <td>NaN</td>\n",
       "      <td>NaN</td>\n",
       "      <td>0</td>\n",
       "      <td>NaN</td>\n",
       "      <td>NaN</td>\n",
       "      <td>...</td>\n",
       "      <td>NaN</td>\n",
       "      <td>NaN</td>\n",
       "      <td>NaN</td>\n",
       "      <td>NaN</td>\n",
       "      <td>NaN</td>\n",
       "      <td>NaN</td>\n",
       "      <td>NaN</td>\n",
       "      <td>NaN</td>\n",
       "      <td>7679.98</td>\n",
       "      <td>0.15</td>\n",
       "    </tr>\n",
       "    <tr>\n",
       "      <th>5</th>\n",
       "      <td>15/09/2011 14:25:59.125</td>\n",
       "      <td>NaN</td>\n",
       "      <td>NaN</td>\n",
       "      <td>NaN</td>\n",
       "      <td>NaN</td>\n",
       "      <td>NaN</td>\n",
       "      <td>0</td>\n",
       "      <td>0</td>\n",
       "      <td>647.998</td>\n",
       "      <td>NaN</td>\n",
       "      <td>...</td>\n",
       "      <td>NaN</td>\n",
       "      <td>NaN</td>\n",
       "      <td>0</td>\n",
       "      <td>0</td>\n",
       "      <td>0</td>\n",
       "      <td>0</td>\n",
       "      <td>0</td>\n",
       "      <td>0</td>\n",
       "      <td>4607.86</td>\n",
       "      <td>0.15</td>\n",
       "    </tr>\n",
       "  </tbody>\n",
       "</table>\n",
       "<p>5 rows × 26 columns</p>\n",
       "</div>"
      ],
      "text/plain": [
       "                         t EGT_SEL FLIGHT_MOD FMV_SEL HPTC_SEL LPTC_SEL  \\\n",
       "1  15/09/2011 14:25:58.125     NaN        NaN     NaN      NaN      NaN   \n",
       "2  15/09/2011 14:25:58.375     NaN        NaN     NaN      NaN      NaN   \n",
       "3  15/09/2011 14:25:58.625     NaN        NaN     NaN      NaN      NaN   \n",
       "4  15/09/2011 14:25:58.875     NaN        NaN     NaN      NaN      NaN   \n",
       "5  15/09/2011 14:25:59.125     NaN        NaN     NaN      NaN      NaN   \n",
       "\n",
       "  N1_SEL N2_ACTSEL    OIL_P OIL_TEMP  ... T25_SEL T3_SEL VBV_SEL VIB_CN1  \\\n",
       "1    NaN         0      NaN      NaN  ...     NaN    NaN     NaN     NaN   \n",
       "2    NaN         0      NaN      NaN  ...     NaN    NaN     NaN     NaN   \n",
       "3    NaN         0      NaN      NaN  ...     NaN    NaN     NaN     NaN   \n",
       "4    NaN         0      NaN      NaN  ...     NaN    NaN     NaN     NaN   \n",
       "5      0         0  647.998      NaN  ...     NaN    NaN       0       0   \n",
       "\n",
       "  VIB_CN2 VIB_TN1 VIB_TN2 VSV_SEL  WFM_SEL    XM  \n",
       "1     NaN     NaN     NaN     NaN      NaN   NaN  \n",
       "2     NaN     NaN     NaN     NaN      NaN   NaN  \n",
       "3     NaN     NaN     NaN     NaN      NaN   NaN  \n",
       "4     NaN     NaN     NaN     NaN  7679.98  0.15  \n",
       "5       0       0       0       0  4607.86  0.15  \n",
       "\n",
       "[5 rows x 26 columns]"
      ]
     },
     "execution_count": 110,
     "metadata": {},
     "output_type": "execute_result"
    }
   ],
   "source": [
    "print(units)\n",
    "df.head()"
   ]
  },
  {
   "cell_type": "markdown",
   "id": "9c7c08a2-0f12-4440-a3c7-90b810db37bb",
   "metadata": {},
   "source": [
    "On remarque que toutes les colonnes ont été reconnues comme de type object, c'est-à-dire des chaînes de caractères, alors que ce sont des valeurs numériques. Cela est dû à la première ligne contenant les unités. Il faut donc convertir les colonnes en numérique. La colonne 't', quant à elle, doit être convertie en type datetime."
   ]
  },
  {
   "cell_type": "code",
   "execution_count": 112,
   "id": "706a5be1-6b26-4380-a13e-7bad5976fcef",
   "metadata": {},
   "outputs": [
    {
     "name": "stderr",
     "output_type": "stream",
     "text": [
      "C:\\Users\\jalil\\AppData\\Local\\Temp\\ipykernel_7360\\2306591669.py:1: UserWarning: Parsing dates in %d/%m/%Y %H:%M:%S.%f format when dayfirst=False (the default) was specified. Pass `dayfirst=True` or specify a format to silence this warning.\n",
      "  df['t'] = pd.to_datetime(df['t'])\n"
     ]
    }
   ],
   "source": [
    "df['t'] = pd.to_datetime(df['t'])\n",
    "df[df.columns[1:]] = df[df.columns[1:]].apply(pd.to_numeric)"
   ]
  },
  {
   "cell_type": "code",
   "execution_count": 113,
   "id": "2059e765-a56f-4f6a-992a-f4d98de33b5e",
   "metadata": {},
   "outputs": [
    {
     "data": {
      "text/plain": [
       "t             datetime64[ns]\n",
       "EGT_SEL              float64\n",
       "FLIGHT_MOD           float64\n",
       "FMV_SEL              float64\n",
       "HPTC_SEL             float64\n",
       "LPTC_SEL             float64\n",
       "N1_SEL               float64\n",
       "N2_ACTSEL            float64\n",
       "OIL_P                float64\n",
       "OIL_TEMP             float64\n",
       "PS3_SEL              float64\n",
       "PT2_SEL              float64\n",
       "P0_SEL               float64\n",
       "TAT                  float64\n",
       "TBV_SEL              float64\n",
       "TRA_SEL              float64\n",
       "T25_SEL              float64\n",
       "T3_SEL               float64\n",
       "VBV_SEL              float64\n",
       "VIB_CN1              float64\n",
       "VIB_CN2              float64\n",
       "VIB_TN1              float64\n",
       "VIB_TN2              float64\n",
       "VSV_SEL              float64\n",
       "WFM_SEL              float64\n",
       "XM                   float64\n",
       "dtype: object"
      ]
     },
     "execution_count": 113,
     "metadata": {},
     "output_type": "execute_result"
    }
   ],
   "source": [
    "df.dtypes"
   ]
  },
  {
   "cell_type": "markdown",
   "id": "b604b6d6-6293-4a28-80b0-d59ef70f526c",
   "metadata": {},
   "source": [
    "\"\"\"\n",
    "Exercice - Index temporel\n",
    "Comme nos données sont une série temporelle multivariée, on souhaite utiliser un index temporel.\n",
    "1. Créez une copie de df, appelée df2, à l'aide de la méthode du même nom.\n",
    "2. Affectez la colonne du temps ('t') en tant qu'indice du DataFrame.\n",
    "3. Supprimez la colonne 't' du DF résultant.\n",
    "\"\"\"\n",
    "raise NotImplementedError"
   ]
  },
  {
   "cell_type": "code",
   "execution_count": 115,
   "id": "d7d36e1e-29a1-4f91-b2ce-cb7fbcce5b67",
   "metadata": {},
   "outputs": [
    {
     "name": "stdout",
     "output_type": "stream",
     "text": [
      "<class 'pandas.core.frame.DataFrame'>\n"
     ]
    }
   ],
   "source": [
    "#création d'une copie\n",
    "df2=df.copy()\n",
    "print(type(df2))\n",
    "\n",
    "\n"
   ]
  },
  {
   "cell_type": "code",
   "execution_count": 116,
   "id": "d0deee76-d7aa-4b70-bc64-0fc6c9039114",
   "metadata": {},
   "outputs": [],
   "source": [
    "#affectation colonne et suppression\n",
    "df2 = df2.set_index('t') "
   ]
  },
  {
   "cell_type": "markdown",
   "id": "530e705f-fdd8-4e57-8722-1422776e66df",
   "metadata": {},
   "source": [
    "On constate que pandas a automatiquement reconnu un DatetimeIndex, adapté pour des manipulations de séries temporelles (moyennes glissantes, etc) !"
   ]
  },
  {
   "cell_type": "markdown",
   "id": "43c8c918-2fde-4d9b-937f-451a5aeaabcc",
   "metadata": {},
   "source": [
    "### Valeurs manquantes\n",
    "\n",
    "**NaN = Not a Number**\n",
    "\n",
    "Les valeurs NaN doivent être éliminées ou imputées (i.e. remplacées par une certaine valeur) avant la suite des traitements. Ce choix dépend du cas d'usage. Dans un premier temps, nous allons apprendre à :\n",
    "\n",
    "* trouver les données manquantes (méthode `isna`)\n",
    "* éliminer les données manquantes d'un DataFrame (méthode `dropna`)\n",
    "* les remplacer par une constante (méthode (`fillna`)"
   ]
  },
  {
   "cell_type": "markdown",
   "id": "610cffc6-ec74-48ed-9f4e-55bf3fbd66e4",
   "metadata": {},
   "source": [
    "\"\"\"\n",
    "EXERCICE - La méthode isna\n",
    "1. Testez la méthode isna sur le DataFrame df2, puis sur une colonne ou une ligne. Que renvoie-t-elle ?\n",
    "2. En appliquant les méthodes any(axis=...), mean() et max()/idxmax() sur les résultats de isna(), répondez aux questions suivantes :\n",
    "    2.1 Quelles colonnes contiennent des valeurs manquantes, lesquelles n'en contiennent pas ?\n",
    "    2.2 Quel est le pourcentage de valeurs manquantes dans le DF (a) par colonne (b) globalement ? Quelle variable contient le plus de NaN ?\n",
    "    2.3 Quel est le pourcentage d'indices du DF pour lesquels toutes les variables sont présentes ?\n",
    "\"\"\"\n",
    "print('Question 2.1')\n",
    "raise NotImplementedError\n",
    "print('Question 2.2')\n",
    "raise NotImplementedError\n",
    "print('Question 2.3')\n",
    "raise NotImplementedError"
   ]
  },
  {
   "cell_type": "code",
   "execution_count": 120,
   "id": "f7c38182-d933-4107-badc-62c060665e1a",
   "metadata": {},
   "outputs": [
    {
     "data": {
      "text/html": [
       "<div>\n",
       "<style scoped>\n",
       "    .dataframe tbody tr th:only-of-type {\n",
       "        vertical-align: middle;\n",
       "    }\n",
       "\n",
       "    .dataframe tbody tr th {\n",
       "        vertical-align: top;\n",
       "    }\n",
       "\n",
       "    .dataframe thead th {\n",
       "        text-align: right;\n",
       "    }\n",
       "</style>\n",
       "<table border=\"1\" class=\"dataframe\">\n",
       "  <thead>\n",
       "    <tr style=\"text-align: right;\">\n",
       "      <th></th>\n",
       "      <th>EGT_SEL</th>\n",
       "      <th>FLIGHT_MOD</th>\n",
       "      <th>FMV_SEL</th>\n",
       "      <th>HPTC_SEL</th>\n",
       "      <th>LPTC_SEL</th>\n",
       "      <th>N1_SEL</th>\n",
       "      <th>N2_ACTSEL</th>\n",
       "      <th>OIL_P</th>\n",
       "      <th>OIL_TEMP</th>\n",
       "      <th>PS3_SEL</th>\n",
       "      <th>...</th>\n",
       "      <th>T25_SEL</th>\n",
       "      <th>T3_SEL</th>\n",
       "      <th>VBV_SEL</th>\n",
       "      <th>VIB_CN1</th>\n",
       "      <th>VIB_CN2</th>\n",
       "      <th>VIB_TN1</th>\n",
       "      <th>VIB_TN2</th>\n",
       "      <th>VSV_SEL</th>\n",
       "      <th>WFM_SEL</th>\n",
       "      <th>XM</th>\n",
       "    </tr>\n",
       "    <tr>\n",
       "      <th>t</th>\n",
       "      <th></th>\n",
       "      <th></th>\n",
       "      <th></th>\n",
       "      <th></th>\n",
       "      <th></th>\n",
       "      <th></th>\n",
       "      <th></th>\n",
       "      <th></th>\n",
       "      <th></th>\n",
       "      <th></th>\n",
       "      <th></th>\n",
       "      <th></th>\n",
       "      <th></th>\n",
       "      <th></th>\n",
       "      <th></th>\n",
       "      <th></th>\n",
       "      <th></th>\n",
       "      <th></th>\n",
       "      <th></th>\n",
       "      <th></th>\n",
       "      <th></th>\n",
       "    </tr>\n",
       "  </thead>\n",
       "  <tbody>\n",
       "    <tr>\n",
       "      <th>2011-09-15 14:25:58.125</th>\n",
       "      <td>True</td>\n",
       "      <td>True</td>\n",
       "      <td>True</td>\n",
       "      <td>True</td>\n",
       "      <td>True</td>\n",
       "      <td>True</td>\n",
       "      <td>False</td>\n",
       "      <td>True</td>\n",
       "      <td>True</td>\n",
       "      <td>True</td>\n",
       "      <td>...</td>\n",
       "      <td>True</td>\n",
       "      <td>True</td>\n",
       "      <td>True</td>\n",
       "      <td>True</td>\n",
       "      <td>True</td>\n",
       "      <td>True</td>\n",
       "      <td>True</td>\n",
       "      <td>True</td>\n",
       "      <td>True</td>\n",
       "      <td>True</td>\n",
       "    </tr>\n",
       "    <tr>\n",
       "      <th>2011-09-15 14:25:58.375</th>\n",
       "      <td>True</td>\n",
       "      <td>True</td>\n",
       "      <td>True</td>\n",
       "      <td>True</td>\n",
       "      <td>True</td>\n",
       "      <td>True</td>\n",
       "      <td>False</td>\n",
       "      <td>True</td>\n",
       "      <td>True</td>\n",
       "      <td>True</td>\n",
       "      <td>...</td>\n",
       "      <td>True</td>\n",
       "      <td>True</td>\n",
       "      <td>True</td>\n",
       "      <td>True</td>\n",
       "      <td>True</td>\n",
       "      <td>True</td>\n",
       "      <td>True</td>\n",
       "      <td>True</td>\n",
       "      <td>True</td>\n",
       "      <td>True</td>\n",
       "    </tr>\n",
       "    <tr>\n",
       "      <th>2011-09-15 14:25:58.625</th>\n",
       "      <td>True</td>\n",
       "      <td>True</td>\n",
       "      <td>True</td>\n",
       "      <td>True</td>\n",
       "      <td>True</td>\n",
       "      <td>True</td>\n",
       "      <td>False</td>\n",
       "      <td>True</td>\n",
       "      <td>True</td>\n",
       "      <td>True</td>\n",
       "      <td>...</td>\n",
       "      <td>True</td>\n",
       "      <td>True</td>\n",
       "      <td>True</td>\n",
       "      <td>True</td>\n",
       "      <td>True</td>\n",
       "      <td>True</td>\n",
       "      <td>True</td>\n",
       "      <td>True</td>\n",
       "      <td>True</td>\n",
       "      <td>True</td>\n",
       "    </tr>\n",
       "    <tr>\n",
       "      <th>2011-09-15 14:25:58.875</th>\n",
       "      <td>True</td>\n",
       "      <td>True</td>\n",
       "      <td>True</td>\n",
       "      <td>True</td>\n",
       "      <td>True</td>\n",
       "      <td>True</td>\n",
       "      <td>False</td>\n",
       "      <td>True</td>\n",
       "      <td>True</td>\n",
       "      <td>True</td>\n",
       "      <td>...</td>\n",
       "      <td>True</td>\n",
       "      <td>True</td>\n",
       "      <td>True</td>\n",
       "      <td>True</td>\n",
       "      <td>True</td>\n",
       "      <td>True</td>\n",
       "      <td>True</td>\n",
       "      <td>True</td>\n",
       "      <td>False</td>\n",
       "      <td>False</td>\n",
       "    </tr>\n",
       "    <tr>\n",
       "      <th>2011-09-15 14:25:59.125</th>\n",
       "      <td>True</td>\n",
       "      <td>True</td>\n",
       "      <td>True</td>\n",
       "      <td>True</td>\n",
       "      <td>True</td>\n",
       "      <td>False</td>\n",
       "      <td>False</td>\n",
       "      <td>False</td>\n",
       "      <td>True</td>\n",
       "      <td>False</td>\n",
       "      <td>...</td>\n",
       "      <td>True</td>\n",
       "      <td>True</td>\n",
       "      <td>False</td>\n",
       "      <td>False</td>\n",
       "      <td>False</td>\n",
       "      <td>False</td>\n",
       "      <td>False</td>\n",
       "      <td>False</td>\n",
       "      <td>False</td>\n",
       "      <td>False</td>\n",
       "    </tr>\n",
       "    <tr>\n",
       "      <th>...</th>\n",
       "      <td>...</td>\n",
       "      <td>...</td>\n",
       "      <td>...</td>\n",
       "      <td>...</td>\n",
       "      <td>...</td>\n",
       "      <td>...</td>\n",
       "      <td>...</td>\n",
       "      <td>...</td>\n",
       "      <td>...</td>\n",
       "      <td>...</td>\n",
       "      <td>...</td>\n",
       "      <td>...</td>\n",
       "      <td>...</td>\n",
       "      <td>...</td>\n",
       "      <td>...</td>\n",
       "      <td>...</td>\n",
       "      <td>...</td>\n",
       "      <td>...</td>\n",
       "      <td>...</td>\n",
       "      <td>...</td>\n",
       "      <td>...</td>\n",
       "    </tr>\n",
       "    <tr>\n",
       "      <th>2011-09-15 16:01:32.875</th>\n",
       "      <td>True</td>\n",
       "      <td>True</td>\n",
       "      <td>True</td>\n",
       "      <td>True</td>\n",
       "      <td>True</td>\n",
       "      <td>True</td>\n",
       "      <td>True</td>\n",
       "      <td>True</td>\n",
       "      <td>True</td>\n",
       "      <td>True</td>\n",
       "      <td>...</td>\n",
       "      <td>True</td>\n",
       "      <td>True</td>\n",
       "      <td>True</td>\n",
       "      <td>True</td>\n",
       "      <td>True</td>\n",
       "      <td>True</td>\n",
       "      <td>True</td>\n",
       "      <td>True</td>\n",
       "      <td>True</td>\n",
       "      <td>True</td>\n",
       "    </tr>\n",
       "    <tr>\n",
       "      <th>2011-09-15 16:01:33.125</th>\n",
       "      <td>True</td>\n",
       "      <td>True</td>\n",
       "      <td>True</td>\n",
       "      <td>True</td>\n",
       "      <td>True</td>\n",
       "      <td>True</td>\n",
       "      <td>True</td>\n",
       "      <td>True</td>\n",
       "      <td>True</td>\n",
       "      <td>True</td>\n",
       "      <td>...</td>\n",
       "      <td>True</td>\n",
       "      <td>True</td>\n",
       "      <td>True</td>\n",
       "      <td>True</td>\n",
       "      <td>True</td>\n",
       "      <td>True</td>\n",
       "      <td>True</td>\n",
       "      <td>True</td>\n",
       "      <td>True</td>\n",
       "      <td>True</td>\n",
       "    </tr>\n",
       "    <tr>\n",
       "      <th>2011-09-15 16:01:33.375</th>\n",
       "      <td>True</td>\n",
       "      <td>True</td>\n",
       "      <td>True</td>\n",
       "      <td>True</td>\n",
       "      <td>True</td>\n",
       "      <td>True</td>\n",
       "      <td>True</td>\n",
       "      <td>True</td>\n",
       "      <td>True</td>\n",
       "      <td>True</td>\n",
       "      <td>...</td>\n",
       "      <td>True</td>\n",
       "      <td>True</td>\n",
       "      <td>True</td>\n",
       "      <td>True</td>\n",
       "      <td>True</td>\n",
       "      <td>True</td>\n",
       "      <td>True</td>\n",
       "      <td>True</td>\n",
       "      <td>True</td>\n",
       "      <td>True</td>\n",
       "    </tr>\n",
       "    <tr>\n",
       "      <th>2011-09-15 16:01:33.625</th>\n",
       "      <td>True</td>\n",
       "      <td>True</td>\n",
       "      <td>True</td>\n",
       "      <td>True</td>\n",
       "      <td>True</td>\n",
       "      <td>True</td>\n",
       "      <td>True</td>\n",
       "      <td>True</td>\n",
       "      <td>True</td>\n",
       "      <td>True</td>\n",
       "      <td>...</td>\n",
       "      <td>True</td>\n",
       "      <td>True</td>\n",
       "      <td>True</td>\n",
       "      <td>True</td>\n",
       "      <td>True</td>\n",
       "      <td>True</td>\n",
       "      <td>True</td>\n",
       "      <td>True</td>\n",
       "      <td>True</td>\n",
       "      <td>True</td>\n",
       "    </tr>\n",
       "    <tr>\n",
       "      <th>2011-09-15 16:01:33.875</th>\n",
       "      <td>True</td>\n",
       "      <td>True</td>\n",
       "      <td>True</td>\n",
       "      <td>True</td>\n",
       "      <td>True</td>\n",
       "      <td>True</td>\n",
       "      <td>True</td>\n",
       "      <td>True</td>\n",
       "      <td>True</td>\n",
       "      <td>True</td>\n",
       "      <td>...</td>\n",
       "      <td>True</td>\n",
       "      <td>True</td>\n",
       "      <td>True</td>\n",
       "      <td>True</td>\n",
       "      <td>True</td>\n",
       "      <td>True</td>\n",
       "      <td>True</td>\n",
       "      <td>True</td>\n",
       "      <td>True</td>\n",
       "      <td>True</td>\n",
       "    </tr>\n",
       "  </tbody>\n",
       "</table>\n",
       "<p>22944 rows × 25 columns</p>\n",
       "</div>"
      ],
      "text/plain": [
       "                         EGT_SEL  FLIGHT_MOD  FMV_SEL  HPTC_SEL  LPTC_SEL  \\\n",
       "t                                                                           \n",
       "2011-09-15 14:25:58.125     True        True     True      True      True   \n",
       "2011-09-15 14:25:58.375     True        True     True      True      True   \n",
       "2011-09-15 14:25:58.625     True        True     True      True      True   \n",
       "2011-09-15 14:25:58.875     True        True     True      True      True   \n",
       "2011-09-15 14:25:59.125     True        True     True      True      True   \n",
       "...                          ...         ...      ...       ...       ...   \n",
       "2011-09-15 16:01:32.875     True        True     True      True      True   \n",
       "2011-09-15 16:01:33.125     True        True     True      True      True   \n",
       "2011-09-15 16:01:33.375     True        True     True      True      True   \n",
       "2011-09-15 16:01:33.625     True        True     True      True      True   \n",
       "2011-09-15 16:01:33.875     True        True     True      True      True   \n",
       "\n",
       "                         N1_SEL  N2_ACTSEL  OIL_P  OIL_TEMP  PS3_SEL  ...  \\\n",
       "t                                                                     ...   \n",
       "2011-09-15 14:25:58.125    True      False   True      True     True  ...   \n",
       "2011-09-15 14:25:58.375    True      False   True      True     True  ...   \n",
       "2011-09-15 14:25:58.625    True      False   True      True     True  ...   \n",
       "2011-09-15 14:25:58.875    True      False   True      True     True  ...   \n",
       "2011-09-15 14:25:59.125   False      False  False      True    False  ...   \n",
       "...                         ...        ...    ...       ...      ...  ...   \n",
       "2011-09-15 16:01:32.875    True       True   True      True     True  ...   \n",
       "2011-09-15 16:01:33.125    True       True   True      True     True  ...   \n",
       "2011-09-15 16:01:33.375    True       True   True      True     True  ...   \n",
       "2011-09-15 16:01:33.625    True       True   True      True     True  ...   \n",
       "2011-09-15 16:01:33.875    True       True   True      True     True  ...   \n",
       "\n",
       "                         T25_SEL  T3_SEL  VBV_SEL  VIB_CN1  VIB_CN2  VIB_TN1  \\\n",
       "t                                                                              \n",
       "2011-09-15 14:25:58.125     True    True     True     True     True     True   \n",
       "2011-09-15 14:25:58.375     True    True     True     True     True     True   \n",
       "2011-09-15 14:25:58.625     True    True     True     True     True     True   \n",
       "2011-09-15 14:25:58.875     True    True     True     True     True     True   \n",
       "2011-09-15 14:25:59.125     True    True    False    False    False    False   \n",
       "...                          ...     ...      ...      ...      ...      ...   \n",
       "2011-09-15 16:01:32.875     True    True     True     True     True     True   \n",
       "2011-09-15 16:01:33.125     True    True     True     True     True     True   \n",
       "2011-09-15 16:01:33.375     True    True     True     True     True     True   \n",
       "2011-09-15 16:01:33.625     True    True     True     True     True     True   \n",
       "2011-09-15 16:01:33.875     True    True     True     True     True     True   \n",
       "\n",
       "                         VIB_TN2  VSV_SEL  WFM_SEL     XM  \n",
       "t                                                          \n",
       "2011-09-15 14:25:58.125     True     True     True   True  \n",
       "2011-09-15 14:25:58.375     True     True     True   True  \n",
       "2011-09-15 14:25:58.625     True     True     True   True  \n",
       "2011-09-15 14:25:58.875     True     True    False  False  \n",
       "2011-09-15 14:25:59.125    False    False    False  False  \n",
       "...                          ...      ...      ...    ...  \n",
       "2011-09-15 16:01:32.875     True     True     True   True  \n",
       "2011-09-15 16:01:33.125     True     True     True   True  \n",
       "2011-09-15 16:01:33.375     True     True     True   True  \n",
       "2011-09-15 16:01:33.625     True     True     True   True  \n",
       "2011-09-15 16:01:33.875     True     True     True   True  \n",
       "\n",
       "[22944 rows x 25 columns]"
      ]
     },
     "execution_count": 120,
     "metadata": {},
     "output_type": "execute_result"
    }
   ],
   "source": [
    "#question1\n",
    "df2.isna()\n"
   ]
  },
  {
   "cell_type": "code",
   "execution_count": 121,
   "id": "ed82513b-648a-4a49-b5eb-265949595c38",
   "metadata": {},
   "outputs": [
    {
     "name": "stdout",
     "output_type": "stream",
     "text": [
      "EGT_SEL        True\n",
      "FLIGHT_MOD     True\n",
      "FMV_SEL        True\n",
      "HPTC_SEL       True\n",
      "LPTC_SEL       True\n",
      "N1_SEL         True\n",
      "N2_ACTSEL     False\n",
      "OIL_P          True\n",
      "OIL_TEMP       True\n",
      "PS3_SEL        True\n",
      "PT2_SEL        True\n",
      "P0_SEL         True\n",
      "TAT            True\n",
      "TBV_SEL        True\n",
      "TRA_SEL        True\n",
      "T25_SEL        True\n",
      "T3_SEL         True\n",
      "VBV_SEL        True\n",
      "VIB_CN1        True\n",
      "VIB_CN2        True\n",
      "VIB_TN1        True\n",
      "VIB_TN2        True\n",
      "VSV_SEL        True\n",
      "WFM_SEL        True\n",
      "XM             True\n",
      "Name: 2011-09-15 14:25:58.375000, dtype: bool\n"
     ]
    }
   ],
   "source": [
    "#sur une ligne\n",
    "val_nan_line=df2.iloc[1].isna()\n",
    "print(val_nan_line)"
   ]
  },
  {
   "cell_type": "markdown",
   "id": "d5f1f37b-bc69-4230-b647-20af1f57822f",
   "metadata": {},
   "source": [
    "elle renvoie true si il y'a une valeur manquante et false si il n'y en a pas."
   ]
  },
  {
   "cell_type": "code",
   "execution_count": 123,
   "id": "d8308abc-8bf1-4d94-857b-2bf183986ade",
   "metadata": {
    "scrolled": true
   },
   "outputs": [
    {
     "name": "stdout",
     "output_type": "stream",
     "text": [
      "Colonnes avec valeurs manquantes (True si au moins une valeur manquante) :\n",
      "EGT_SEL       True\n",
      "FLIGHT_MOD    True\n",
      "FMV_SEL       True\n",
      "HPTC_SEL      True\n",
      "LPTC_SEL      True\n",
      "N1_SEL        True\n",
      "N2_ACTSEL     True\n",
      "OIL_P         True\n",
      "OIL_TEMP      True\n",
      "PS3_SEL       True\n",
      "PT2_SEL       True\n",
      "P0_SEL        True\n",
      "TAT           True\n",
      "TBV_SEL       True\n",
      "TRA_SEL       True\n",
      "T25_SEL       True\n",
      "T3_SEL        True\n",
      "VBV_SEL       True\n",
      "VIB_CN1       True\n",
      "VIB_CN2       True\n",
      "VIB_TN1       True\n",
      "VIB_TN2       True\n",
      "VSV_SEL       True\n",
      "WFM_SEL       True\n",
      "XM            True\n",
      "dtype: bool\n"
     ]
    }
   ],
   "source": [
    "#question 2.1\n",
    "colonnes_na = df2.isna().any(axis=0)\n",
    "\n",
    "# Affichage du résultat\n",
    "print(\"Colonnes avec valeurs manquantes (True si au moins une valeur manquante) :\")\n",
    "print(colonnes_na)"
   ]
  },
  {
   "cell_type": "code",
   "execution_count": 124,
   "id": "1679a362-ca3b-45c3-acbf-47d9c1a8ae32",
   "metadata": {
    "scrolled": true
   },
   "outputs": [
    {
     "name": "stdout",
     "output_type": "stream",
     "text": [
      "Proportion de valeurs manquantes par colonne :\n",
      "EGT_SEL       0.003487\n",
      "FLIGHT_MOD    0.004446\n",
      "FMV_SEL       0.004446\n",
      "HPTC_SEL      0.004228\n",
      "LPTC_SEL      0.004576\n",
      "N1_SEL        0.004184\n",
      "N2_ACTSEL     0.002528\n",
      "OIL_P         0.003792\n",
      "OIL_TEMP      0.003835\n",
      "PS3_SEL       0.003007\n",
      "PT2_SEL       0.003705\n",
      "P0_SEL        0.003705\n",
      "TAT           0.003007\n",
      "TBV_SEL       0.002964\n",
      "TRA_SEL       0.003007\n",
      "T25_SEL       0.004707\n",
      "T3_SEL        0.004707\n",
      "VBV_SEL       0.002920\n",
      "VIB_CN1       0.002920\n",
      "VIB_CN2       0.002833\n",
      "VIB_TN1       0.002833\n",
      "VIB_TN2       0.002833\n",
      "VSV_SEL       0.002746\n",
      "WFM_SEL       0.002702\n",
      "XM            0.002615\n",
      "dtype: float64\n",
      "Proportion de données manquantes globalement : 0.35%\n",
      "La colonne avec le plus de NaN est : T25_SEL\n"
     ]
    }
   ],
   "source": [
    "#question 2.2\n",
    "# Calcul de la proportion de valeurs manquantes par colonne\n",
    "proportion_na_col = df2.isna().mean()\n",
    "\n",
    "# Affichage du résultat\n",
    "print(\"Proportion de valeurs manquantes par colonne :\")\n",
    "print(proportion_na_col)\n",
    "\n",
    "# Calcul de la proportion de valeurs manquantes globale\n",
    "proportion_na_glob = df2.isna().mean().mean()\n",
    "\n",
    "# Affichage du résultat\n",
    "print(f\"Proportion de données manquantes globalement : {proportion_na_glob:.2%}\")\n",
    "\n",
    "#variable qui contient le plus de NAN\n",
    "# Calculer le nombre de valeurs manquantes par colonne\n",
    "nombre_na_par_colonne = df2.isna().sum()\n",
    "\n",
    "# Identifier la colonne avec le plus de NaN\n",
    "colonne_max_na = nombre_na_par_colonne.idxmax()\n",
    "\n",
    "# Afficher la colonne avec le plus de NaN\n",
    "print(f\"La colonne avec le plus de NaN est : {colonne_max_na}\")\n"
   ]
  },
  {
   "cell_type": "code",
   "execution_count": 125,
   "id": "e9343220-3749-4e4b-9b58-7c3eb699648c",
   "metadata": {},
   "outputs": [
    {
     "name": "stdout",
     "output_type": "stream",
     "text": [
      "Pourcentage d'indices avec toutes les variables présentes : 99.48%\n"
     ]
    }
   ],
   "source": [
    "#question 2.3\n",
    "# Identifier les lignes sans aucune valeur manquante\n",
    "lignes_completes = ~df2.isna().any(axis=1)\n",
    "\n",
    "# Calculer le pourcentage de lignes complètes\n",
    "pourcentage_lignes_completes = lignes_completes.mean() * 100\n",
    "\n",
    "# Afficher le pourcentage\n",
    "print(f\"Pourcentage d'indices avec toutes les variables présentes : {pourcentage_lignes_completes:.2f}%\")"
   ]
  },
  {
   "cell_type": "markdown",
   "id": "b11b839b-3e19-43e8-ad5f-02e07d9f1b2c",
   "metadata": {},
   "source": [
    "\"\"\"\n",
    "EXERCICE - La méthode dropna\n",
    "La méthode dropna permet d'éliminer les valeurs manquantes (NaN). Lisez d'abord sa documentation.\n",
    "1. À quoi correspondent les arguments \"axis\" et \"how\" ?\n",
    "2. Éliminez toutes les lignes contenant uniquement des valeurs manquantes.\n",
    "3. Éliminez toutes les lignes contenant au moins une valeur manquante. Combien y a-t-il de lignes de différence ?\n",
    "4. Éliminez toutes les colonnes contenant au moins une valeur manquante.\n",
    "\"\"\"\n",
    "raise NotImplementedError"
   ]
  },
  {
   "cell_type": "markdown",
   "id": "fcfac8df-9c9c-4054-8442-21f12c06906c",
   "metadata": {},
   "source": [
    "#question 1\n",
    "\n",
    "axis correspond aux index ou aux colonnes\n",
    "how determine si la ligne ou colonne est enlevée du dataframe si elle contient au moins une donnée manquante ou si toutes les données sont manquantes."
   ]
  },
  {
   "cell_type": "code",
   "execution_count": 128,
   "id": "a49205fb-38ef-4573-9781-5678305566e5",
   "metadata": {},
   "outputs": [],
   "source": [
    "#question 2\n",
    "df2_sans_tout_na=df2.dropna(axis=0,how='all')"
   ]
  },
  {
   "cell_type": "code",
   "execution_count": 129,
   "id": "0e9bd1f3-458f-4db5-b4fa-be36f1c848e4",
   "metadata": {},
   "outputs": [
    {
     "name": "stdout",
     "output_type": "stream",
     "text": [
      "Différence de lignes : 64\n"
     ]
    }
   ],
   "source": [
    "#question 3\n",
    "df2_sans_une_na=df2.dropna(axis=0,how='any')\n",
    "#difference\n",
    "diff_lignes = len(df2_sans_tout_na) - len(df2_sans_une_na)\n",
    "print(f\"Différence de lignes : {diff_lignes}\")\n"
   ]
  },
  {
   "cell_type": "code",
   "execution_count": 130,
   "id": "e3c323ec-8261-40a2-a759-58733807c7f0",
   "metadata": {},
   "outputs": [
    {
     "data": {
      "text/html": [
       "<div>\n",
       "<style scoped>\n",
       "    .dataframe tbody tr th:only-of-type {\n",
       "        vertical-align: middle;\n",
       "    }\n",
       "\n",
       "    .dataframe tbody tr th {\n",
       "        vertical-align: top;\n",
       "    }\n",
       "\n",
       "    .dataframe thead th {\n",
       "        text-align: right;\n",
       "    }\n",
       "</style>\n",
       "<table border=\"1\" class=\"dataframe\">\n",
       "  <thead>\n",
       "    <tr style=\"text-align: right;\">\n",
       "      <th></th>\n",
       "    </tr>\n",
       "    <tr>\n",
       "      <th>t</th>\n",
       "    </tr>\n",
       "  </thead>\n",
       "  <tbody>\n",
       "    <tr>\n",
       "      <th>2011-09-15 14:25:58.125</th>\n",
       "    </tr>\n",
       "    <tr>\n",
       "      <th>2011-09-15 14:25:58.375</th>\n",
       "    </tr>\n",
       "    <tr>\n",
       "      <th>2011-09-15 14:25:58.625</th>\n",
       "    </tr>\n",
       "    <tr>\n",
       "      <th>2011-09-15 14:25:58.875</th>\n",
       "    </tr>\n",
       "    <tr>\n",
       "      <th>2011-09-15 14:25:59.125</th>\n",
       "    </tr>\n",
       "    <tr>\n",
       "      <th>...</th>\n",
       "    </tr>\n",
       "    <tr>\n",
       "      <th>2011-09-15 16:01:32.875</th>\n",
       "    </tr>\n",
       "    <tr>\n",
       "      <th>2011-09-15 16:01:33.125</th>\n",
       "    </tr>\n",
       "    <tr>\n",
       "      <th>2011-09-15 16:01:33.375</th>\n",
       "    </tr>\n",
       "    <tr>\n",
       "      <th>2011-09-15 16:01:33.625</th>\n",
       "    </tr>\n",
       "    <tr>\n",
       "      <th>2011-09-15 16:01:33.875</th>\n",
       "    </tr>\n",
       "  </tbody>\n",
       "</table>\n",
       "<p>22944 rows × 0 columns</p>\n",
       "</div>"
      ],
      "text/plain": [
       "Empty DataFrame\n",
       "Columns: []\n",
       "Index: [2011-09-15 14:25:58.125000, 2011-09-15 14:25:58.375000, 2011-09-15 14:25:58.625000, 2011-09-15 14:25:58.875000, 2011-09-15 14:25:59.125000, 2011-09-15 14:25:59.375000, 2011-09-15 14:25:59.625000, 2011-09-15 14:25:59.875000, 2011-09-15 14:26:00.125000, 2011-09-15 14:26:00.375000, 2011-09-15 14:26:00.625000, 2011-09-15 14:26:00.875000, 2011-09-15 14:26:01.125000, 2011-09-15 14:26:01.375000, 2011-09-15 14:26:01.625000, 2011-09-15 14:26:01.875000, 2011-09-15 14:26:02.125000, 2011-09-15 14:26:02.375000, 2011-09-15 14:26:02.625000, 2011-09-15 14:26:02.875000, 2011-09-15 14:26:03.125000, 2011-09-15 14:26:03.375000, 2011-09-15 14:26:03.625000, 2011-09-15 14:26:03.875000, 2011-09-15 14:26:04.125000, 2011-09-15 14:26:04.375000, 2011-09-15 14:26:04.625000, 2011-09-15 14:26:04.875000, 2011-09-15 14:26:05.125000, 2011-09-15 14:26:05.375000, 2011-09-15 14:26:05.625000, 2011-09-15 14:26:05.875000, 2011-09-15 14:26:06.125000, 2011-09-15 14:26:06.375000, 2011-09-15 14:26:06.625000, 2011-09-15 14:26:06.875000, 2011-09-15 14:26:07.125000, 2011-09-15 14:26:07.375000, 2011-09-15 14:26:07.625000, 2011-09-15 14:26:07.875000, 2011-09-15 14:26:08.125000, 2011-09-15 14:26:08.375000, 2011-09-15 14:26:08.625000, 2011-09-15 14:26:08.875000, 2011-09-15 14:26:09.125000, 2011-09-15 14:26:09.375000, 2011-09-15 14:26:09.625000, 2011-09-15 14:26:09.875000, 2011-09-15 14:26:10.125000, 2011-09-15 14:26:10.375000, 2011-09-15 14:26:10.625000, 2011-09-15 14:26:10.875000, 2011-09-15 14:26:11.125000, 2011-09-15 14:26:11.375000, 2011-09-15 14:26:11.625000, 2011-09-15 14:26:11.875000, 2011-09-15 14:26:12.125000, 2011-09-15 14:26:12.375000, 2011-09-15 14:26:12.625000, 2011-09-15 14:26:12.875000, 2011-09-15 14:26:13.125000, 2011-09-15 14:26:13.375000, 2011-09-15 14:26:13.625000, 2011-09-15 14:26:13.875000, 2011-09-15 14:26:14.125000, 2011-09-15 14:26:14.375000, 2011-09-15 14:26:14.625000, 2011-09-15 14:26:14.875000, 2011-09-15 14:26:15.125000, 2011-09-15 14:26:15.375000, 2011-09-15 14:26:15.625000, 2011-09-15 14:26:15.875000, 2011-09-15 14:26:16.125000, 2011-09-15 14:26:16.375000, 2011-09-15 14:26:16.625000, 2011-09-15 14:26:16.875000, 2011-09-15 14:26:17.125000, 2011-09-15 14:26:17.375000, 2011-09-15 14:26:17.625000, 2011-09-15 14:26:17.875000, 2011-09-15 14:26:18.125000, 2011-09-15 14:26:18.375000, 2011-09-15 14:26:18.625000, 2011-09-15 14:26:18.875000, 2011-09-15 14:26:19.125000, 2011-09-15 14:26:19.375000, 2011-09-15 14:26:19.625000, 2011-09-15 14:26:19.875000, 2011-09-15 14:26:20.125000, 2011-09-15 14:26:20.375000, 2011-09-15 14:26:20.625000, 2011-09-15 14:26:20.875000, 2011-09-15 14:26:21.125000, 2011-09-15 14:26:21.375000, 2011-09-15 14:26:21.625000, 2011-09-15 14:26:21.875000, 2011-09-15 14:26:22.125000, 2011-09-15 14:26:22.375000, 2011-09-15 14:26:22.625000, 2011-09-15 14:26:22.875000, ...]\n",
       "\n",
       "[22944 rows x 0 columns]"
      ]
     },
     "execution_count": 130,
     "metadata": {},
     "output_type": "execute_result"
    }
   ],
   "source": [
    "#question 4\n",
    "df2_sans_une_na_col=df2.dropna(axis=1,how='any')\n",
    "df2_sans_une_na_col"
   ]
  },
  {
   "cell_type": "markdown",
   "id": "481dfc0f-82ce-46ae-94ac-f6a24fbb1771",
   "metadata": {},
   "source": [
    "\"\"\"\n",
    "EXERCICE - La méthode fillna\n",
    "La méthode dropna permet d'imputer les valeurs manquantes (NaN). Lisez d'abord sa documentation.\n",
    "1. Quelles sont les différentes stratégies de remplissage des valeurs manquantes ?\n",
    "2. Imputez les valeurs manquantes de la colonne age du DF donné en exemple par :\n",
    "    - 0\n",
    "    - la dernière valeur précédente/suivante valide\n",
    "    - la moyenne\n",
    "    - la valeur la plus courante (mode)\n",
    "3. Quel est le meilleur choix dans ce cas ? Et pour le cas d'une variable temporelle, par exemple la température 'EGT_SEL' de notre jeu de données ?\n",
    "\"\"\"\n",
    "exemple = pd.DataFrame({'nom': ['Alice', 'Bob', 'Charlie', 'David'], 'age': [24, pd.np.nan, 99, 24]})\n",
    "\n",
    "raise NotImplementedError"
   ]
  },
  {
   "cell_type": "markdown",
   "id": "71cc6ae6-cc4a-41b1-b7f2-67d3e5eea5a9",
   "metadata": {},
   "source": [
    "#question 1\n",
    "\n",
    "Remplissage avec une valeur spécifique (ex scalaire).\n",
    "Remplissage en avant.\n",
    "Remplissage en arrière.\n",
    "Limitation du nombre de remplissages.\n",
    "Remplissage basé sur des groupes.\n",
    "\n",
    "\n"
   ]
  },
  {
   "cell_type": "code",
   "execution_count": 133,
   "id": "a43a5b08-cb24-467a-8a30-79792db8d1a9",
   "metadata": {
    "scrolled": true
   },
   "outputs": [
    {
     "name": "stdout",
     "output_type": "stream",
     "text": [
      "DataFrame original :\n",
      "       nom   age\n",
      "0    Alice  24.0\n",
      "1      Bob   NaN\n",
      "2  Charlie  99.0\n",
      "3    David  24.0\n",
      "\n",
      "Imputation avec 0 :\n",
      "       nom   age\n",
      "0    Alice  24.0\n",
      "1      Bob   0.0\n",
      "2  Charlie  99.0\n",
      "3    David  24.0\n",
      "\n",
      "Imputation avec la dernière valeur précédente :\n",
      "       nom   age\n",
      "0    Alice  24.0\n",
      "1      Bob  24.0\n",
      "2  Charlie  99.0\n",
      "3    David  24.0\n",
      "\n",
      "Imputation avec la prochaine valeur valide :\n",
      "       nom   age\n",
      "0    Alice  24.0\n",
      "1      Bob  99.0\n",
      "2  Charlie  99.0\n",
      "3    David  24.0\n",
      "\n",
      "Imputation avec la moyenne :\n",
      "       nom   age\n",
      "0    Alice  24.0\n",
      "1      Bob  49.0\n",
      "2  Charlie  99.0\n",
      "3    David  24.0\n",
      "\n",
      "Imputation avec le mode :\n",
      "       nom   age\n",
      "0    Alice  24.0\n",
      "1      Bob  24.0\n",
      "2  Charlie  99.0\n",
      "3    David  24.0\n"
     ]
    },
    {
     "name": "stderr",
     "output_type": "stream",
     "text": [
      "C:\\Users\\jalil\\AppData\\Local\\Temp\\ipykernel_7360\\1138228211.py:20: FutureWarning: Series.fillna with 'method' is deprecated and will raise in a future version. Use obj.ffill() or obj.bfill() instead.\n",
      "  exemple_ffill['age'] = exemple_ffill['age'].fillna(method='ffill')\n",
      "C:\\Users\\jalil\\AppData\\Local\\Temp\\ipykernel_7360\\1138228211.py:26: FutureWarning: Series.fillna with 'method' is deprecated and will raise in a future version. Use obj.ffill() or obj.bfill() instead.\n",
      "  exemple_bfill['age'] = exemple_bfill['age'].fillna(method='bfill')\n"
     ]
    }
   ],
   "source": [
    "#question 2\n",
    "import pandas as pd\n",
    "import numpy as np\n",
    "\n",
    "# Création du DataFrame\n",
    "exemple = pd.DataFrame({'nom': ['Alice', 'Bob', 'Charlie', 'David'], 'age': [24, np.nan, 99, 24]})\n",
    "\n",
    "# Affichage du DataFrame original\n",
    "print(\"DataFrame original :\")\n",
    "print(exemple)\n",
    "\n",
    "# Imputation avec 0\n",
    "exemple_zero = exemple.copy()\n",
    "exemple_zero['age'] = exemple_zero['age'].fillna(0)\n",
    "print(\"\\nImputation avec 0 :\")\n",
    "print(exemple_zero)\n",
    "\n",
    "# Imputation avec la dernière valeur précédente \n",
    "exemple_ffill = exemple.copy()\n",
    "exemple_ffill['age'] = exemple_ffill['age'].fillna(method='ffill')\n",
    "print(\"\\nImputation avec la dernière valeur précédente :\")\n",
    "print(exemple_ffill)\n",
    "\n",
    "# Imputation avec la prochaine valeur valide \n",
    "exemple_bfill = exemple.copy()\n",
    "exemple_bfill['age'] = exemple_bfill['age'].fillna(method='bfill')\n",
    "print(\"\\nImputation avec la prochaine valeur valide :\")\n",
    "print(exemple_bfill)\n",
    "\n",
    "# Imputation avec la moyenne\n",
    "moyenne_age = exemple['age'].mean()\n",
    "exemple_mean = exemple.copy()\n",
    "exemple_mean['age'] = exemple_mean['age'].fillna(moyenne_age)\n",
    "print(\"\\nImputation avec la moyenne :\")\n",
    "print(exemple_mean)\n",
    "\n",
    "# Imputation avec le mode\n",
    "mode_age = exemple['age'].mode()[0]\n",
    "exemple_mode = exemple.copy()\n",
    "exemple_mode['age'] = exemple_mode['age'].fillna(mode_age)\n",
    "print(\"\\nImputation avec le mode :\")\n",
    "print(exemple_mode)\n"
   ]
  },
  {
   "cell_type": "markdown",
   "id": "f8868c98-8069-4a5e-9ec9-f0719f8ccf9f",
   "metadata": {},
   "source": [
    "#question 3\n",
    "\n",
    "#La strategie de la dernière valeur précedente est la meilleure.\n",
    "#pour notre jeu de données, la strategie Moyenne est la meilleure."
   ]
  },
  {
   "cell_type": "markdown",
   "id": "b5d55345-2d7d-47b5-889c-7ba241902090",
   "metadata": {},
   "source": [
    "## Git"
   ]
  },
  {
   "cell_type": "markdown",
   "id": "330b3ba5-1c43-4f7c-91a4-b23910d25b24",
   "metadata": {},
   "source": [
    "Créer un compte GitHub : https://github.com/\n",
    "\n",
    "Créer un nouveau repository :\n",
    "1. Sélectionner \"Nouveau dépôt\" dans le menu déroulant avec le signe +. \n",
    "2. Saisisser un nom pour votre dépôt (par exemple, \"TDs statistiques descriptives\") \n",
    "3. Cliquer sur \"Créer un dépôt\". Ne vous souciez pas des autres options.\n",
    "\n",
    "\n",
    "\n",
    "Télécharger Git Bash : https://git-scm.com/downloads\n",
    "\n",
    "Sur Git Bash, positionnez-vous dans le répertoire où votre projet figure.\n",
    "\n",
    "Ensuite\n",
    "\n",
    "> git init\n",
    "\n",
    "> git remote add origin https://github.com/********\n",
    "\n",
    "> git add .\n",
    "\n",
    "> git commit -m \"Ajout du TD1\"\n",
    "\n",
    "> git push origin master\n",
    "\n",
    "C'est tout ! Vous avez créé votre repo GitHub ! "
   ]
  }
 ],
 "metadata": {
  "environment": {
   "kernel": "python3",
   "name": "pytorch-gpu.1-11.m93",
   "type": "gcloud",
   "uri": "gcr.io/deeplearning-platform-release/pytorch-gpu.1-11:m93"
  },
  "kernelspec": {
   "display_name": "Python 3 (ipykernel)",
   "language": "python",
   "name": "python3"
  },
  "language_info": {
   "codemirror_mode": {
    "name": "ipython",
    "version": 3
   },
   "file_extension": ".py",
   "mimetype": "text/x-python",
   "name": "python",
   "nbconvert_exporter": "python",
   "pygments_lexer": "ipython3",
   "version": "3.12.4"
  }
 },
 "nbformat": 4,
 "nbformat_minor": 5
}
